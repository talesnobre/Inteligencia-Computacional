{
 "cells": [
  {
   "cell_type": "markdown",
   "metadata": {},
   "source": [
    "### Inteligência Computacional - Redes Neurais\n",
    "#### Aluno: Tales Nobre\n",
    "#### Matrícula: 20200025983"
   ]
  },
  {
   "cell_type": "markdown",
   "metadata": {},
   "source": [
    "##### Importação das bibliotecas"
   ]
  },
  {
   "cell_type": "code",
   "execution_count": 648,
   "metadata": {},
   "outputs": [],
   "source": [
    "import pandas as pd\n",
    "import tensorflow as tf\n",
    "from tensorflow.keras.models import load_model\n",
    "import matplotlib.pyplot as plt\n",
    "from plotly import graph_objects as go"
   ]
  },
  {
   "cell_type": "code",
   "execution_count": 649,
   "metadata": {},
   "outputs": [
    {
     "data": {
      "text/html": [
       "<div>\n",
       "<style scoped>\n",
       "    .dataframe tbody tr th:only-of-type {\n",
       "        vertical-align: middle;\n",
       "    }\n",
       "\n",
       "    .dataframe tbody tr th {\n",
       "        vertical-align: top;\n",
       "    }\n",
       "\n",
       "    .dataframe thead th {\n",
       "        text-align: right;\n",
       "    }\n",
       "</style>\n",
       "<table border=\"1\" class=\"dataframe\">\n",
       "  <thead>\n",
       "    <tr style=\"text-align: right;\">\n",
       "      <th></th>\n",
       "      <th>feature1</th>\n",
       "      <th>feature2</th>\n",
       "      <th>label</th>\n",
       "    </tr>\n",
       "  </thead>\n",
       "  <tbody>\n",
       "    <tr>\n",
       "      <th>0</th>\n",
       "      <td>0.303527</td>\n",
       "      <td>-7.497406</td>\n",
       "      <td>-1</td>\n",
       "    </tr>\n",
       "    <tr>\n",
       "      <th>1</th>\n",
       "      <td>1.801744</td>\n",
       "      <td>-5.088862</td>\n",
       "      <td>-1</td>\n",
       "    </tr>\n",
       "    <tr>\n",
       "      <th>2</th>\n",
       "      <td>-1.532103</td>\n",
       "      <td>4.492260</td>\n",
       "      <td>1</td>\n",
       "    </tr>\n",
       "    <tr>\n",
       "      <th>3</th>\n",
       "      <td>3.673569</td>\n",
       "      <td>-11.564694</td>\n",
       "      <td>-1</td>\n",
       "    </tr>\n",
       "    <tr>\n",
       "      <th>4</th>\n",
       "      <td>5.358153</td>\n",
       "      <td>-30.423237</td>\n",
       "      <td>-1</td>\n",
       "    </tr>\n",
       "    <tr>\n",
       "      <th>...</th>\n",
       "      <td>...</td>\n",
       "      <td>...</td>\n",
       "      <td>...</td>\n",
       "    </tr>\n",
       "    <tr>\n",
       "      <th>495</th>\n",
       "      <td>-0.109278</td>\n",
       "      <td>-3.787574</td>\n",
       "      <td>-1</td>\n",
       "    </tr>\n",
       "    <tr>\n",
       "      <th>496</th>\n",
       "      <td>-0.159512</td>\n",
       "      <td>4.513483</td>\n",
       "      <td>1</td>\n",
       "    </tr>\n",
       "    <tr>\n",
       "      <th>497</th>\n",
       "      <td>-1.042000</td>\n",
       "      <td>-7.307499</td>\n",
       "      <td>-1</td>\n",
       "    </tr>\n",
       "    <tr>\n",
       "      <th>498</th>\n",
       "      <td>-1.527926</td>\n",
       "      <td>4.529648</td>\n",
       "      <td>1</td>\n",
       "    </tr>\n",
       "    <tr>\n",
       "      <th>499</th>\n",
       "      <td>5.185786</td>\n",
       "      <td>-27.866666</td>\n",
       "      <td>-1</td>\n",
       "    </tr>\n",
       "  </tbody>\n",
       "</table>\n",
       "<p>500 rows × 3 columns</p>\n",
       "</div>"
      ],
      "text/plain": [
       "     feature1   feature2  label\n",
       "0    0.303527  -7.497406     -1\n",
       "1    1.801744  -5.088862     -1\n",
       "2   -1.532103   4.492260      1\n",
       "3    3.673569 -11.564694     -1\n",
       "4    5.358153 -30.423237     -1\n",
       "..        ...        ...    ...\n",
       "495 -0.109278  -3.787574     -1\n",
       "496 -0.159512   4.513483      1\n",
       "497 -1.042000  -7.307499     -1\n",
       "498 -1.527926   4.529648      1\n",
       "499  5.185786 -27.866666     -1\n",
       "\n",
       "[500 rows x 3 columns]"
      ]
     },
     "execution_count": 649,
     "metadata": {},
     "output_type": "execute_result"
    }
   ],
   "source": [
    "df = pd.read_csv('data/dataset.csv')\n",
    "df"
   ]
  },
  {
   "cell_type": "code",
   "execution_count": 650,
   "metadata": {},
   "outputs": [],
   "source": [
    "train_df = df.sample(frac=0.75, random_state=42)\n",
    "test_df = df.drop(train_df.index)\n",
    "N_train = len(train_df)\n",
    "N_test = len(test_df)"
   ]
  },
  {
   "cell_type": "markdown",
   "metadata": {},
   "source": [
    "#### Normalization"
   ]
  },
  {
   "cell_type": "code",
   "execution_count": 651,
   "metadata": {},
   "outputs": [],
   "source": [
    "# # normalizing data\n",
    "# max_train_val = X.max(axis=0)\n",
    "# min_train_val = X.min(axis=0)\n",
    "# range_train = max_train_val - min_train_val\n",
    "\n",
    "# max_test_val = y.max(axis=0)\n",
    "# min_test_val = y.min(axis=0)\n",
    "# range_test = max_test_val - min_test_val\n",
    "\n",
    "# X = (X - min_train_val)/range_train\n",
    "# y = (y - min_test_val)/range_test"
   ]
  },
  {
   "cell_type": "code",
   "execution_count": 652,
   "metadata": {},
   "outputs": [],
   "source": [
    "max_val = train_df.max(axis=0)\n",
    "min_val = train_df.min(axis=0)\n",
    "range = max_val - min_val\n",
    "train_df = (train_df - min_val)/range\n",
    "test_df = (test_df - min_val)/range\n",
    "# print('[0,1] train data:',train_df)\n",
    "# print('[0,1] test data:',test_df)"
   ]
  },
  {
   "cell_type": "code",
   "execution_count": 653,
   "metadata": {},
   "outputs": [],
   "source": [
    "X_train = train_df.drop('label',axis=1)\n",
    "y_train = train_df['label']\n",
    "X_test = test_df.drop('label',axis=1)\n",
    "y_test = test_df['label']"
   ]
  },
  {
   "cell_type": "code",
   "execution_count": 654,
   "metadata": {},
   "outputs": [],
   "source": [
    "ncol = [X_train.shape[1]]"
   ]
  },
  {
   "cell_type": "markdown",
   "metadata": {},
   "source": [
    "##### Rede Neural criada com uma arquitetura de 3 camadas + a de saída, tendo 2 camadas de 12 neurônios e uma de 48. Essa rede foi suficientemente boa para resolver o problema com um loss próximo de 0,02."
   ]
  },
  {
   "cell_type": "code",
   "execution_count": 655,
   "metadata": {},
   "outputs": [
    {
     "name": "stdout",
     "output_type": "stream",
     "text": [
      "Model: \"sequential_49\"\n",
      "_________________________________________________________________\n",
      " Layer (type)                Output Shape              Param #   \n",
      "=================================================================\n",
      " dense_288 (Dense)           (None, 32)                96        \n",
      "                                                                 \n",
      " dense_289 (Dense)           (None, 64)                2112      \n",
      "                                                                 \n",
      " dense_290 (Dense)           (None, 32)                2080      \n",
      "                                                                 \n",
      " dense_291 (Dense)           (None, 16)                528       \n",
      "                                                                 \n",
      " dense_292 (Dense)           (None, 8)                 136       \n",
      "                                                                 \n",
      " dense_293 (Dense)           (None, 1)                 9         \n",
      "                                                                 \n",
      "=================================================================\n",
      "Total params: 4,961\n",
      "Trainable params: 4,961\n",
      "Non-trainable params: 0\n",
      "_________________________________________________________________\n",
      "None\n"
     ]
    }
   ],
   "source": [
    "neural_net = tf.keras.Sequential([\n",
    "    tf.keras.layers.Dense(units=32, activation='relu',input_shape=ncol),\n",
    "    tf.keras.layers.Dense(units=64, activation='relu'),\n",
    "    tf.keras.layers.Dense(units=32, activation='relu'),\n",
    "    tf.keras.layers.Dense(units=16, activation='relu'),\n",
    "    tf.keras.layers.Dense(units=8, activation='relu'),\n",
    "    # tf.keras.layers.Dense(units=4, activation='relu'),\n",
    "    # tf.keras.layers.Dense(units=1,activation='tanh')\n",
    "    # tf.keras.layers.Dense(units=1,activation='sigmoid'),\n",
    "    tf.keras.layers.Dense(units=1)\n",
    "])\n",
    "print(neural_net.summary())"
   ]
  },
  {
   "cell_type": "code",
   "execution_count": 656,
   "metadata": {},
   "outputs": [
    {
     "name": "stdout",
     "output_type": "stream",
     "text": [
      "Epoch 1/100\n",
      "11/11 [==============================] - 1s 17ms/step - loss: 0.4403 - accuracy: 0.5067 - val_loss: 0.4008 - val_accuracy: 0.4800\n",
      "Epoch 2/100\n",
      "11/11 [==============================] - 0s 5ms/step - loss: 0.3278 - accuracy: 0.5067 - val_loss: 0.2777 - val_accuracy: 0.4800\n",
      "Epoch 3/100\n",
      "11/11 [==============================] - 0s 5ms/step - loss: 0.2436 - accuracy: 0.5947 - val_loss: 0.2369 - val_accuracy: 0.6000\n",
      "Epoch 4/100\n",
      "11/11 [==============================] - 0s 5ms/step - loss: 0.2346 - accuracy: 0.5840 - val_loss: 0.2353 - val_accuracy: 0.7440\n",
      "Epoch 5/100\n",
      "11/11 [==============================] - 0s 5ms/step - loss: 0.2302 - accuracy: 0.6667 - val_loss: 0.2392 - val_accuracy: 0.5520\n",
      "Epoch 6/100\n",
      "11/11 [==============================] - 0s 4ms/step - loss: 0.2253 - accuracy: 0.7253 - val_loss: 0.2310 - val_accuracy: 0.7280\n",
      "Epoch 7/100\n",
      "11/11 [==============================] - 0s 5ms/step - loss: 0.2207 - accuracy: 0.8240 - val_loss: 0.2306 - val_accuracy: 0.8160\n",
      "Epoch 8/100\n",
      "11/11 [==============================] - 0s 5ms/step - loss: 0.2169 - accuracy: 0.8747 - val_loss: 0.2272 - val_accuracy: 0.7440\n",
      "Epoch 9/100\n",
      "11/11 [==============================] - 0s 4ms/step - loss: 0.2113 - accuracy: 0.8320 - val_loss: 0.2261 - val_accuracy: 0.7760\n",
      "Epoch 10/100\n",
      "11/11 [==============================] - 0s 5ms/step - loss: 0.2076 - accuracy: 0.7787 - val_loss: 0.2251 - val_accuracy: 0.6560\n",
      "Epoch 11/100\n",
      "11/11 [==============================] - 0s 4ms/step - loss: 0.2051 - accuracy: 0.6480 - val_loss: 0.2244 - val_accuracy: 0.7520\n",
      "Epoch 12/100\n",
      "11/11 [==============================] - 0s 4ms/step - loss: 0.1999 - accuracy: 0.8560 - val_loss: 0.2221 - val_accuracy: 0.8080\n",
      "Epoch 13/100\n",
      "11/11 [==============================] - 0s 5ms/step - loss: 0.1958 - accuracy: 0.8533 - val_loss: 0.2170 - val_accuracy: 0.7920\n",
      "Epoch 14/100\n",
      "11/11 [==============================] - 0s 9ms/step - loss: 0.1904 - accuracy: 0.8560 - val_loss: 0.2145 - val_accuracy: 0.7920\n",
      "Epoch 15/100\n",
      "11/11 [==============================] - 0s 4ms/step - loss: 0.1852 - accuracy: 0.8560 - val_loss: 0.2105 - val_accuracy: 0.7920\n",
      "Epoch 16/100\n",
      "11/11 [==============================] - 0s 5ms/step - loss: 0.1810 - accuracy: 0.8560 - val_loss: 0.2047 - val_accuracy: 0.8000\n",
      "Epoch 17/100\n",
      "11/11 [==============================] - 0s 4ms/step - loss: 0.1746 - accuracy: 0.8480 - val_loss: 0.2033 - val_accuracy: 0.8000\n",
      "Epoch 18/100\n",
      "11/11 [==============================] - 0s 4ms/step - loss: 0.1720 - accuracy: 0.8400 - val_loss: 0.1983 - val_accuracy: 0.8000\n",
      "Epoch 19/100\n",
      "11/11 [==============================] - 0s 4ms/step - loss: 0.1636 - accuracy: 0.8667 - val_loss: 0.1948 - val_accuracy: 0.8000\n",
      "Epoch 20/100\n",
      "11/11 [==============================] - 0s 4ms/step - loss: 0.1601 - accuracy: 0.8560 - val_loss: 0.1941 - val_accuracy: 0.8000\n",
      "Epoch 21/100\n",
      "11/11 [==============================] - 0s 5ms/step - loss: 0.1553 - accuracy: 0.8667 - val_loss: 0.1846 - val_accuracy: 0.8080\n",
      "Epoch 22/100\n",
      "11/11 [==============================] - 0s 5ms/step - loss: 0.1542 - accuracy: 0.8613 - val_loss: 0.1959 - val_accuracy: 0.7280\n",
      "Epoch 23/100\n",
      "11/11 [==============================] - 0s 5ms/step - loss: 0.1623 - accuracy: 0.8107 - val_loss: 0.2039 - val_accuracy: 0.7440\n",
      "Epoch 24/100\n",
      "11/11 [==============================] - 0s 5ms/step - loss: 0.1531 - accuracy: 0.8480 - val_loss: 0.1771 - val_accuracy: 0.8000\n",
      "Epoch 25/100\n",
      "11/11 [==============================] - 0s 4ms/step - loss: 0.1376 - accuracy: 0.8720 - val_loss: 0.1685 - val_accuracy: 0.8000\n",
      "Epoch 26/100\n",
      "11/11 [==============================] - 0s 5ms/step - loss: 0.1319 - accuracy: 0.8720 - val_loss: 0.1653 - val_accuracy: 0.7920\n",
      "Epoch 27/100\n",
      "11/11 [==============================] - 0s 4ms/step - loss: 0.1287 - accuracy: 0.8747 - val_loss: 0.1630 - val_accuracy: 0.8080\n",
      "Epoch 28/100\n",
      "11/11 [==============================] - 0s 5ms/step - loss: 0.1261 - accuracy: 0.8773 - val_loss: 0.1717 - val_accuracy: 0.8000\n",
      "Epoch 29/100\n",
      "11/11 [==============================] - 0s 5ms/step - loss: 0.1290 - accuracy: 0.8667 - val_loss: 0.1605 - val_accuracy: 0.7920\n",
      "Epoch 30/100\n",
      "11/11 [==============================] - 0s 4ms/step - loss: 0.1220 - accuracy: 0.8720 - val_loss: 0.1586 - val_accuracy: 0.8080\n",
      "Epoch 31/100\n",
      "11/11 [==============================] - 0s 5ms/step - loss: 0.1197 - accuracy: 0.8773 - val_loss: 0.1563 - val_accuracy: 0.8160\n",
      "Epoch 32/100\n",
      "11/11 [==============================] - 0s 5ms/step - loss: 0.1180 - accuracy: 0.8827 - val_loss: 0.1598 - val_accuracy: 0.8000\n",
      "Epoch 33/100\n",
      "11/11 [==============================] - 0s 4ms/step - loss: 0.1189 - accuracy: 0.8853 - val_loss: 0.1571 - val_accuracy: 0.8080\n",
      "Epoch 34/100\n",
      "11/11 [==============================] - 0s 5ms/step - loss: 0.1162 - accuracy: 0.8853 - val_loss: 0.1530 - val_accuracy: 0.8160\n",
      "Epoch 35/100\n",
      "11/11 [==============================] - 0s 5ms/step - loss: 0.1129 - accuracy: 0.8800 - val_loss: 0.1510 - val_accuracy: 0.8160\n",
      "Epoch 36/100\n",
      "11/11 [==============================] - 0s 5ms/step - loss: 0.1133 - accuracy: 0.8880 - val_loss: 0.1505 - val_accuracy: 0.8160\n",
      "Epoch 37/100\n",
      "11/11 [==============================] - 0s 5ms/step - loss: 0.1126 - accuracy: 0.8853 - val_loss: 0.1488 - val_accuracy: 0.8160\n",
      "Epoch 38/100\n",
      "11/11 [==============================] - 0s 4ms/step - loss: 0.1087 - accuracy: 0.8853 - val_loss: 0.1466 - val_accuracy: 0.8160\n",
      "Epoch 39/100\n",
      "11/11 [==============================] - 0s 5ms/step - loss: 0.1055 - accuracy: 0.8880 - val_loss: 0.1464 - val_accuracy: 0.8160\n",
      "Epoch 40/100\n",
      "11/11 [==============================] - 0s 4ms/step - loss: 0.1062 - accuracy: 0.8907 - val_loss: 0.1424 - val_accuracy: 0.8160\n",
      "Epoch 41/100\n",
      "11/11 [==============================] - 0s 9ms/step - loss: 0.1042 - accuracy: 0.8960 - val_loss: 0.1443 - val_accuracy: 0.8160\n",
      "Epoch 42/100\n",
      "11/11 [==============================] - 0s 4ms/step - loss: 0.1107 - accuracy: 0.8800 - val_loss: 0.1528 - val_accuracy: 0.8000\n",
      "Epoch 43/100\n",
      "11/11 [==============================] - 0s 5ms/step - loss: 0.1072 - accuracy: 0.8880 - val_loss: 0.1465 - val_accuracy: 0.8160\n",
      "Epoch 44/100\n",
      "11/11 [==============================] - 0s 4ms/step - loss: 0.1025 - accuracy: 0.8853 - val_loss: 0.1542 - val_accuracy: 0.8080\n",
      "Epoch 45/100\n",
      "11/11 [==============================] - 0s 5ms/step - loss: 0.1105 - accuracy: 0.8853 - val_loss: 0.1403 - val_accuracy: 0.8160\n",
      "Epoch 46/100\n",
      "11/11 [==============================] - 0s 5ms/step - loss: 0.1102 - accuracy: 0.8800 - val_loss: 0.1410 - val_accuracy: 0.8160\n",
      "Epoch 47/100\n",
      "11/11 [==============================] - 0s 5ms/step - loss: 0.1079 - accuracy: 0.8880 - val_loss: 0.1432 - val_accuracy: 0.8160\n",
      "Epoch 48/100\n",
      "11/11 [==============================] - 0s 5ms/step - loss: 0.0972 - accuracy: 0.8827 - val_loss: 0.1383 - val_accuracy: 0.8160\n",
      "Epoch 49/100\n",
      "11/11 [==============================] - 0s 5ms/step - loss: 0.0955 - accuracy: 0.8933 - val_loss: 0.1329 - val_accuracy: 0.8320\n",
      "Epoch 50/100\n",
      "11/11 [==============================] - 0s 5ms/step - loss: 0.0912 - accuracy: 0.8960 - val_loss: 0.1306 - val_accuracy: 0.8160\n",
      "Epoch 51/100\n",
      "11/11 [==============================] - 0s 5ms/step - loss: 0.0892 - accuracy: 0.9040 - val_loss: 0.1295 - val_accuracy: 0.8160\n",
      "Epoch 52/100\n",
      "11/11 [==============================] - 0s 4ms/step - loss: 0.0876 - accuracy: 0.9013 - val_loss: 0.1285 - val_accuracy: 0.8160\n",
      "Epoch 53/100\n",
      "11/11 [==============================] - 0s 5ms/step - loss: 0.0858 - accuracy: 0.9013 - val_loss: 0.1280 - val_accuracy: 0.8240\n",
      "Epoch 54/100\n",
      "11/11 [==============================] - 0s 5ms/step - loss: 0.0882 - accuracy: 0.8960 - val_loss: 0.1254 - val_accuracy: 0.8160\n",
      "Epoch 55/100\n",
      "11/11 [==============================] - 0s 5ms/step - loss: 0.0837 - accuracy: 0.9067 - val_loss: 0.1191 - val_accuracy: 0.8320\n",
      "Epoch 56/100\n",
      "11/11 [==============================] - 0s 5ms/step - loss: 0.0837 - accuracy: 0.9013 - val_loss: 0.1247 - val_accuracy: 0.8240\n",
      "Epoch 57/100\n",
      "11/11 [==============================] - 0s 5ms/step - loss: 0.0783 - accuracy: 0.9067 - val_loss: 0.1143 - val_accuracy: 0.8320\n",
      "Epoch 58/100\n",
      "11/11 [==============================] - 0s 5ms/step - loss: 0.0783 - accuracy: 0.9120 - val_loss: 0.1121 - val_accuracy: 0.8320\n",
      "Epoch 59/100\n",
      "11/11 [==============================] - 0s 4ms/step - loss: 0.0762 - accuracy: 0.9120 - val_loss: 0.1115 - val_accuracy: 0.8480\n",
      "Epoch 60/100\n",
      "11/11 [==============================] - 0s 4ms/step - loss: 0.0743 - accuracy: 0.9040 - val_loss: 0.1089 - val_accuracy: 0.8240\n",
      "Epoch 61/100\n",
      "11/11 [==============================] - 0s 5ms/step - loss: 0.0736 - accuracy: 0.9093 - val_loss: 0.1078 - val_accuracy: 0.8240\n",
      "Epoch 62/100\n",
      "11/11 [==============================] - 0s 4ms/step - loss: 0.0723 - accuracy: 0.9120 - val_loss: 0.1006 - val_accuracy: 0.8720\n",
      "Epoch 63/100\n",
      "11/11 [==============================] - 0s 4ms/step - loss: 0.0692 - accuracy: 0.9147 - val_loss: 0.0929 - val_accuracy: 0.8800\n",
      "Epoch 64/100\n",
      "11/11 [==============================] - 0s 4ms/step - loss: 0.0688 - accuracy: 0.9227 - val_loss: 0.0924 - val_accuracy: 0.8480\n",
      "Epoch 65/100\n",
      "11/11 [==============================] - 0s 5ms/step - loss: 0.0709 - accuracy: 0.9280 - val_loss: 0.0831 - val_accuracy: 0.9040\n",
      "Epoch 66/100\n",
      "11/11 [==============================] - 0s 9ms/step - loss: 0.0671 - accuracy: 0.9147 - val_loss: 0.0906 - val_accuracy: 0.8480\n",
      "Epoch 67/100\n",
      "11/11 [==============================] - 0s 5ms/step - loss: 0.0603 - accuracy: 0.9307 - val_loss: 0.0777 - val_accuracy: 0.9120\n",
      "Epoch 68/100\n",
      "11/11 [==============================] - 0s 5ms/step - loss: 0.0593 - accuracy: 0.9227 - val_loss: 0.0795 - val_accuracy: 0.8800\n",
      "Epoch 69/100\n",
      "11/11 [==============================] - 0s 4ms/step - loss: 0.0557 - accuracy: 0.9333 - val_loss: 0.0745 - val_accuracy: 0.9280\n",
      "Epoch 70/100\n",
      "11/11 [==============================] - 0s 4ms/step - loss: 0.0545 - accuracy: 0.9307 - val_loss: 0.0698 - val_accuracy: 0.9280\n",
      "Epoch 71/100\n",
      "11/11 [==============================] - 0s 4ms/step - loss: 0.0521 - accuracy: 0.9360 - val_loss: 0.0746 - val_accuracy: 0.8880\n",
      "Epoch 72/100\n",
      "11/11 [==============================] - 0s 4ms/step - loss: 0.0523 - accuracy: 0.9360 - val_loss: 0.0672 - val_accuracy: 0.9200\n",
      "Epoch 73/100\n",
      "11/11 [==============================] - 0s 4ms/step - loss: 0.0634 - accuracy: 0.9173 - val_loss: 0.0718 - val_accuracy: 0.9200\n",
      "Epoch 74/100\n",
      "11/11 [==============================] - 0s 4ms/step - loss: 0.0780 - accuracy: 0.8960 - val_loss: 0.1267 - val_accuracy: 0.8240\n",
      "Epoch 75/100\n",
      "11/11 [==============================] - 0s 4ms/step - loss: 0.0611 - accuracy: 0.9120 - val_loss: 0.0668 - val_accuracy: 0.9360\n",
      "Epoch 76/100\n",
      "11/11 [==============================] - 0s 5ms/step - loss: 0.0529 - accuracy: 0.9387 - val_loss: 0.0719 - val_accuracy: 0.9120\n",
      "Epoch 77/100\n",
      "11/11 [==============================] - 0s 5ms/step - loss: 0.0508 - accuracy: 0.9413 - val_loss: 0.0617 - val_accuracy: 0.9360\n",
      "Epoch 78/100\n",
      "11/11 [==============================] - 0s 5ms/step - loss: 0.0496 - accuracy: 0.9413 - val_loss: 0.0639 - val_accuracy: 0.9280\n",
      "Epoch 79/100\n",
      "11/11 [==============================] - 0s 5ms/step - loss: 0.0496 - accuracy: 0.9520 - val_loss: 0.0803 - val_accuracy: 0.8720\n",
      "Epoch 80/100\n",
      "11/11 [==============================] - 0s 5ms/step - loss: 0.0580 - accuracy: 0.9147 - val_loss: 0.0650 - val_accuracy: 0.9200\n",
      "Epoch 81/100\n",
      "11/11 [==============================] - 0s 5ms/step - loss: 0.0483 - accuracy: 0.9440 - val_loss: 0.0632 - val_accuracy: 0.9200\n",
      "Epoch 82/100\n",
      "11/11 [==============================] - 0s 4ms/step - loss: 0.0447 - accuracy: 0.9520 - val_loss: 0.0646 - val_accuracy: 0.9120\n",
      "Epoch 83/100\n",
      "11/11 [==============================] - 0s 5ms/step - loss: 0.0449 - accuracy: 0.9520 - val_loss: 0.0812 - val_accuracy: 0.8800\n",
      "Epoch 84/100\n",
      "11/11 [==============================] - 0s 4ms/step - loss: 0.0496 - accuracy: 0.9360 - val_loss: 0.0599 - val_accuracy: 0.9440\n",
      "Epoch 85/100\n",
      "11/11 [==============================] - 0s 4ms/step - loss: 0.0440 - accuracy: 0.9573 - val_loss: 0.0592 - val_accuracy: 0.9440\n",
      "Epoch 86/100\n",
      "11/11 [==============================] - 0s 4ms/step - loss: 0.0488 - accuracy: 0.9333 - val_loss: 0.0569 - val_accuracy: 0.9520\n",
      "Epoch 87/100\n",
      "11/11 [==============================] - 0s 4ms/step - loss: 0.0536 - accuracy: 0.9467 - val_loss: 0.0570 - val_accuracy: 0.9440\n",
      "Epoch 88/100\n",
      "11/11 [==============================] - 0s 4ms/step - loss: 0.0457 - accuracy: 0.9413 - val_loss: 0.0624 - val_accuracy: 0.9040\n",
      "Epoch 89/100\n",
      "11/11 [==============================] - 0s 4ms/step - loss: 0.0554 - accuracy: 0.9173 - val_loss: 0.0558 - val_accuracy: 0.9440\n",
      "Epoch 90/100\n",
      "11/11 [==============================] - 0s 5ms/step - loss: 0.0532 - accuracy: 0.9200 - val_loss: 0.0721 - val_accuracy: 0.8960\n",
      "Epoch 91/100\n",
      "11/11 [==============================] - 0s 5ms/step - loss: 0.0483 - accuracy: 0.9360 - val_loss: 0.0572 - val_accuracy: 0.9280\n",
      "Epoch 92/100\n",
      "11/11 [==============================] - 0s 5ms/step - loss: 0.0440 - accuracy: 0.9387 - val_loss: 0.0557 - val_accuracy: 0.9440\n",
      "Epoch 93/100\n",
      "11/11 [==============================] - 0s 5ms/step - loss: 0.0401 - accuracy: 0.9547 - val_loss: 0.0556 - val_accuracy: 0.9520\n",
      "Epoch 94/100\n",
      "11/11 [==============================] - 0s 9ms/step - loss: 0.0410 - accuracy: 0.9600 - val_loss: 0.0585 - val_accuracy: 0.9360\n",
      "Epoch 95/100\n",
      "11/11 [==============================] - 0s 4ms/step - loss: 0.0486 - accuracy: 0.9307 - val_loss: 0.0548 - val_accuracy: 0.9360\n",
      "Epoch 96/100\n",
      "11/11 [==============================] - 0s 4ms/step - loss: 0.0411 - accuracy: 0.9547 - val_loss: 0.0536 - val_accuracy: 0.9360\n",
      "Epoch 97/100\n",
      "11/11 [==============================] - 0s 4ms/step - loss: 0.0392 - accuracy: 0.9467 - val_loss: 0.0513 - val_accuracy: 0.9600\n",
      "Epoch 98/100\n",
      "11/11 [==============================] - 0s 5ms/step - loss: 0.0391 - accuracy: 0.9573 - val_loss: 0.0500 - val_accuracy: 0.9600\n",
      "Epoch 99/100\n",
      "11/11 [==============================] - 0s 5ms/step - loss: 0.0409 - accuracy: 0.9547 - val_loss: 0.0526 - val_accuracy: 0.9360\n",
      "Epoch 100/100\n",
      "11/11 [==============================] - 0s 5ms/step - loss: 0.0400 - accuracy: 0.9573 - val_loss: 0.0442 - val_accuracy: 0.9600\n",
      "4/4 [==============================] - 0s 2ms/step - loss: 0.0442 - accuracy: 0.9600\n",
      "Loss: 0.04421783611178398, Accuracy: 0.9599999785423279\n"
     ]
    }
   ],
   "source": [
    "neural_net.compile(optimizer='adam',loss='mse', metrics=['accuracy'])\n",
    "\n",
    "losses = neural_net.fit(X_train, y_train,\n",
    "\t\t\t\tvalidation_data=(X_test, y_test),\n",
    "\t\t\t\tbatch_size=N_train//10, \n",
    "\t\t\t\tepochs=100, # total epoch\n",
    ")\n",
    "\n",
    "loss, accuracy = neural_net.evaluate(X_test, y_test)\n",
    "print(f\"Loss: {loss}, Accuracy: {accuracy}\")"
   ]
  },
  {
   "cell_type": "markdown",
   "metadata": {},
   "source": [
    "##### Função para salvar a melhor Rede Neural"
   ]
  },
  {
   "cell_type": "code",
   "execution_count": 657,
   "metadata": {},
   "outputs": [],
   "source": [
    "models = [neural_net]\n",
    "validation_losses = [losses.history['val_loss'][-1]]\n",
    "\n",
    "# Encontra o índice do melhor modelo\n",
    "best_model_index = validation_losses.index(min(validation_losses))\n",
    "\n",
    "# Salva o melhor modelo\n",
    "best_model = models[best_model_index]\n",
    "# best_model.save('best_model.h5')\n",
    "best_model.save_weights('best_model_weights.h5')"
   ]
  },
  {
   "cell_type": "code",
   "execution_count": 658,
   "metadata": {},
   "outputs": [
    {
     "data": {
      "text/plain": [
       "<Axes: >"
      ]
     },
     "execution_count": 658,
     "metadata": {},
     "output_type": "execute_result"
    },
    {
     "data": {
      "image/png": "[encoded data removed]",
      "text/plain": [
       "<Figure size 640x480 with 1 Axes>"
      ]
     },
     "metadata": {},
     "output_type": "display_data"
    }
   ],
   "source": [
    "# mse vs epoch \n",
    "loss_df = pd.DataFrame(losses.history)\n",
    "loss_df.loc[:,['loss','val_loss']].plot()"
   ]
  },
  {
   "cell_type": "code",
   "execution_count": 659,
   "metadata": {},
   "outputs": [
    {
     "name": "stdout",
     "output_type": "stream",
     "text": [
      "4/4 [==============================] - 0s 2ms/step\n"
     ]
    },
    {
     "data": {
      "image/png": "[encoded data removed]",
      "text/plain": [
       "<Figure size 640x480 with 1 Axes>"
      ]
     },
     "metadata": {},
     "output_type": "display_data"
    }
   ],
   "source": [
    "# best_model = load_model('best_model.h5')\n",
    "# best_model.load_weights('best_model_weights.h5')\n",
    "\n",
    "# predictions = best_model.predict(X_test)\n",
    "\n",
    "# loss_df = pd.DataFrame(losses.history)\n",
    "# loss_df.loc[:, ['loss', 'val_loss']].plot()\n",
    "# plt.show()"
   ]
  },
  {
   "cell_type": "code",
   "execution_count": 660,
   "metadata": {},
   "outputs": [
    {
     "name": "stdout",
     "output_type": "stream",
     "text": [
      "4/4 [==============================] - 0s 0s/step\n"
     ]
    }
   ],
   "source": [
    "X = X_test.iloc[:,:]\n",
    "x1 = (X.iloc[:,0]).to_numpy()\n",
    "x2 = (X.iloc[:,1]).to_numpy()\n",
    "y = (y_test.iloc[:]).to_numpy()\n",
    "ypred = neural_net.predict(X)\n",
    "ypred = ypred.reshape((len(ypred),))"
   ]
  },
  {
   "cell_type": "markdown",
   "metadata": {},
   "source": [
    "##### Gráfico interativo dos pontos"
   ]
  },
  {
   "cell_type": "code",
   "execution_count": 661,
   "metadata": {},
   "outputs": [
    {
     "data": {
      "application/vnd.plotly.v1+json": {
       "config": {
        "plotlyServerURL": "https://plot.ly"
       },
       "data": [
        {
         "marker": {
          "color": "blue",
          "size": 8,
          "symbol": "circle"
         },
         "mode": "markers",
         "type": "scatter3d",
         "x": [
          0.597552234499517,
          0.3859840096257334,
          0.7054434923182538,
          0.6240817020743612,
          0.23700245958714894,
          0.6794283848023658,
          0.6574625338732448,
          0.4818563507643678,
          0.6404226923769045,
          0.2300594078228215,
          0.13834365981938748,
          0.7817564750977608,
          0.5870183193328063,
          0.5519735181163756,
          0.8001697430079168,
          0.6290940953486573,
          0.6963655754553881,
          0.3773477312639721,
          0.4631405238365019,
          0.5112089823256145,
          0.5473246213222516,
          0.385860863116648,
          0.7284562794350791,
          0.7903466021919127,
          0.7454089893202537,
          0.4884903401556738,
          0.6746064107089813,
          0.4593978488335846,
          0.8109177213788593,
          0.7634215803540849,
          0.47889376018296703,
          0.718953782681857,
          0.7092398228288682,
          0.36095137453707926,
          0.4518569750331281,
          0.3917452624835325,
          0.3909575089427941,
          0.2207252757843467,
          0.5588998518819166,
          0.33297713120885736,
          0.46928800854578595,
          0.4930842935375647,
          0.34236604381138286,
          0.4188152366739367,
          0.45244928306661863,
          0.5012171289736799,
          0.405805189721999,
          0.4735370788732247,
          0.346341569215626,
          0.5323643962326448,
          0.22555209486498087,
          0.5319426248441053,
          0.25257126357361026,
          0.5586807408844224,
          0.4924361135944297,
          0.28418531187238777,
          0.6381860234369026,
          0.14196140762198395,
          0.27492471430859033,
          0.3420861543671082,
          0.39404533738831465,
          0.35229513856991845,
          0.5293392189801653,
          0.48904041942537646,
          0.4386911728572812,
          0.5172370135735288,
          0.43028830964011255,
          0.5288137087184345,
          0.4007824765499836,
          0.5172553521308815,
          0.3713042817970815,
          0.48158293888366543,
          0.3020786657234303,
          0.4038489372265083,
          0.503050669924811,
          0.3293125179947146,
          0.28198235804348065,
          0.4507008573211095,
          0.5339090536976396,
          0.21150018481387722,
          0.6050879437378728,
          0.36869341050906096,
          0.3313592998512548,
          0.37498149726198743,
          0.31336892938995914,
          0.2639993182678839,
          0.6083661766305875,
          0.988757036086039,
          0.5556788126254996,
          0.5673809454060289,
          0.3521609664147555,
          0.07134643106680016,
          0.4693131113619525,
          0.11244425017226356,
          0.2751043532054209,
          0.1337453773856629,
          0.7226542034730096,
          0.8557737342713313,
          0.5147219074229151,
          0.5397053555965162,
          0.4595983562561379,
          0.5901464101579412,
          0.7802970836926293,
          0.6617607114715799,
          0.3121009022746524,
          0.48799086503532346,
          0.6829830140057893,
          0.43089782944078686,
          0.40848487804789496,
          0.6688819732099456,
          0.5464267620326376,
          0.656425579183861,
          0.5738914162512145,
          0.49331521617495555,
          0.34523271654397675,
          0.5249364145042241,
          0.5607416414436123,
          0.4150904793640899,
          0.30002884477278124,
          0.43996926965035726,
          0.21229942338908292,
          0.6489507904595586,
          0.42158179734713086,
          0.490029012939658,
          0.7830778514119915
         ],
         "y": [
          0.44123595153412465,
          0.4848022468834001,
          0.4682226159900728,
          0.5568754092611903,
          0.6757206968388371,
          0.427346389620781,
          0.46590982507490153,
          0.5224706914375014,
          0.4569956387513971,
          0.6874767040932165,
          0.43120407736228517,
          0.34279914518675997,
          0.45301910335417855,
          0.5314827351270335,
          0.3609340844588168,
          0.4456466538765557,
          0.4821421817484145,
          0.40553953381257457,
          0.525773960104892,
          0.446364236927219,
          0.5162827727491728,
          0.48808068551547984,
          0.4061137288159735,
          0.2584643262624261,
          0.2690530868121046,
          0.5072751264738489,
          0.4111125813317029,
          0.44408962580590383,
          0.29088889133172263,
          0.35763683480688524,
          0.5114708618462924,
          0.4198377057869233,
          0.46271384093312884,
          0.40859667027646857,
          0.5305429416971295,
          0.4917834932289444,
          0.40080884273159817,
          0.5985888317616087,
          0.4322591630619159,
          0.4086513535363342,
          0.5127565253924783,
          0.42355581927779473,
          0.513147016598076,
          0.4176776510603629,
          0.5209363010590478,
          0.45081800446016446,
          0.5036105393018172,
          0.41801528151450346,
          0.40841498782089763,
          0.4260432108235836,
          0.6182779568757067,
          0.5148388710400104,
          0.6760855453350019,
          0.5446746556330159,
          0.5217063967007195,
          0.6039536794865501,
          0.4795151474680945,
          0.4477260290773074,
          0.5275295515571208,
          0.4087264487147434,
          0.41365740786881283,
          0.40319318698541384,
          0.4181713941011507,
          0.5138242361304182,
          0.5295314149023493,
          0.5374966687497075,
          0.4373945458849698,
          0.5404516465294597,
          0.49212119807104415,
          0.4453430539794152,
          0.3877435155190214,
          0.540664778478416,
          0.5564513276535663,
          0.4148387486693985,
          0.5202250399812606,
          0.4374607616775078,
          0.5348093310732229,
          0.5212926498936122,
          0.5179176814656893,
          0.5964718902048364,
          0.5630464296867594,
          0.42356956686404384,
          0.4204231565542463,
          0.412714358323742,
          0.5520627779481362,
          0.5656848318140089,
          0.5639347875956642,
          0.7903279441571223,
          0.4312307762792269,
          0.4581842308211731,
          0.4033514771831692,
          0.08350769267403077,
          0.5314914561132574,
          0.284622769178989,
          0.5308321045784767,
          0.4150614947271322,
          0.42289089591910217,
          0.5922262336560317,
          0.4475591225062793,
          0.4203510257320035,
          0.425844121503907,
          0.44980628698580216,
          0.354757107419094,
          0.5283192971754075,
          0.4561022966893362,
          0.5059022122129794,
          0.5089067234792687,
          0.5283081938351467,
          0.40839278758484315,
          0.5090902032465281,
          0.42039933006631497,
          0.4417712739664019,
          0.5309087708824518,
          0.42514221969033905,
          0.5058682058894594,
          0.5391843037514429,
          0.4454544282121679,
          0.42828415012700083,
          0.56592900897367,
          0.4265122939326452,
          0.6300958736679652,
          0.5567663099201606,
          0.49906487582660275,
          0.5130127971759639,
          0.2709734783267004
         ],
         "z": [
          0,
          1,
          1,
          1,
          1,
          0,
          0,
          1,
          0,
          1,
          1,
          1,
          0,
          1,
          1,
          0,
          1,
          0,
          1,
          0,
          1,
          1,
          1,
          0,
          0,
          1,
          0,
          0,
          0,
          1,
          1,
          1,
          1,
          0,
          1,
          1,
          0,
          0,
          0,
          0,
          1,
          0,
          1,
          0,
          1,
          0,
          1,
          0,
          0,
          0,
          0,
          1,
          1,
          1,
          1,
          1,
          0,
          1,
          0,
          0,
          0,
          0,
          0,
          1,
          1,
          1,
          0,
          1,
          1,
          0,
          0,
          1,
          1,
          0,
          1,
          0,
          0,
          1,
          1,
          0,
          1,
          0,
          0,
          0,
          1,
          0,
          1,
          1,
          0,
          0,
          0,
          1,
          1,
          1,
          0,
          1,
          1,
          1,
          0,
          0,
          0,
          0,
          1,
          1,
          0,
          1,
          1,
          1,
          0,
          1,
          0,
          0,
          1,
          0,
          1,
          1,
          0,
          0,
          1,
          0,
          0,
          1,
          1,
          1,
          0
         ]
        },
        {
         "marker": {
          "color": "red",
          "size": 8,
          "symbol": "circle"
         },
         "mode": "markers",
         "type": "scatter3d",
         "x": [
          0.597552234499517,
          0.3859840096257334,
          0.7054434923182538,
          0.6240817020743612,
          0.23700245958714894,
          0.6794283848023658,
          0.6574625338732448,
          0.4818563507643678,
          0.6404226923769045,
          0.2300594078228215,
          0.13834365981938748,
          0.7817564750977608,
          0.5870183193328063,
          0.5519735181163756,
          0.8001697430079168,
          0.6290940953486573,
          0.6963655754553881,
          0.3773477312639721,
          0.4631405238365019,
          0.5112089823256145,
          0.5473246213222516,
          0.385860863116648,
          0.7284562794350791,
          0.7903466021919127,
          0.7454089893202537,
          0.4884903401556738,
          0.6746064107089813,
          0.4593978488335846,
          0.8109177213788593,
          0.7634215803540849,
          0.47889376018296703,
          0.718953782681857,
          0.7092398228288682,
          0.36095137453707926,
          0.4518569750331281,
          0.3917452624835325,
          0.3909575089427941,
          0.2207252757843467,
          0.5588998518819166,
          0.33297713120885736,
          0.46928800854578595,
          0.4930842935375647,
          0.34236604381138286,
          0.4188152366739367,
          0.45244928306661863,
          0.5012171289736799,
          0.405805189721999,
          0.4735370788732247,
          0.346341569215626,
          0.5323643962326448,
          0.22555209486498087,
          0.5319426248441053,
          0.25257126357361026,
          0.5586807408844224,
          0.4924361135944297,
          0.28418531187238777,
          0.6381860234369026,
          0.14196140762198395,
          0.27492471430859033,
          0.3420861543671082,
          0.39404533738831465,
          0.35229513856991845,
          0.5293392189801653,
          0.48904041942537646,
          0.4386911728572812,
          0.5172370135735288,
          0.43028830964011255,
          0.5288137087184345,
          0.4007824765499836,
          0.5172553521308815,
          0.3713042817970815,
          0.48158293888366543,
          0.3020786657234303,
          0.4038489372265083,
          0.503050669924811,
          0.3293125179947146,
          0.28198235804348065,
          0.4507008573211095,
          0.5339090536976396,
          0.21150018481387722,
          0.6050879437378728,
          0.36869341050906096,
          0.3313592998512548,
          0.37498149726198743,
          0.31336892938995914,
          0.2639993182678839,
          0.6083661766305875,
          0.988757036086039,
          0.5556788126254996,
          0.5673809454060289,
          0.3521609664147555,
          0.07134643106680016,
          0.4693131113619525,
          0.11244425017226356,
          0.2751043532054209,
          0.1337453773856629,
          0.7226542034730096,
          0.8557737342713313,
          0.5147219074229151,
          0.5397053555965162,
          0.4595983562561379,
          0.5901464101579412,
          0.7802970836926293,
          0.6617607114715799,
          0.3121009022746524,
          0.48799086503532346,
          0.6829830140057893,
          0.43089782944078686,
          0.40848487804789496,
          0.6688819732099456,
          0.5464267620326376,
          0.656425579183861,
          0.5738914162512145,
          0.49331521617495555,
          0.34523271654397675,
          0.5249364145042241,
          0.5607416414436123,
          0.4150904793640899,
          0.30002884477278124,
          0.43996926965035726,
          0.21229942338908292,
          0.6489507904595586,
          0.42158179734713086,
          0.490029012939658,
          0.7830778514119915
         ],
         "y": [
          0.44123595153412465,
          0.4848022468834001,
          0.4682226159900728,
          0.5568754092611903,
          0.6757206968388371,
          0.427346389620781,
          0.46590982507490153,
          0.5224706914375014,
          0.4569956387513971,
          0.6874767040932165,
          0.43120407736228517,
          0.34279914518675997,
          0.45301910335417855,
          0.5314827351270335,
          0.3609340844588168,
          0.4456466538765557,
          0.4821421817484145,
          0.40553953381257457,
          0.525773960104892,
          0.446364236927219,
          0.5162827727491728,
          0.48808068551547984,
          0.4061137288159735,
          0.2584643262624261,
          0.2690530868121046,
          0.5072751264738489,
          0.4111125813317029,
          0.44408962580590383,
          0.29088889133172263,
          0.35763683480688524,
          0.5114708618462924,
          0.4198377057869233,
          0.46271384093312884,
          0.40859667027646857,
          0.5305429416971295,
          0.4917834932289444,
          0.40080884273159817,
          0.5985888317616087,
          0.4322591630619159,
          0.4086513535363342,
          0.5127565253924783,
          0.42355581927779473,
          0.513147016598076,
          0.4176776510603629,
          0.5209363010590478,
          0.45081800446016446,
          0.5036105393018172,
          0.41801528151450346,
          0.40841498782089763,
          0.4260432108235836,
          0.6182779568757067,
          0.5148388710400104,
          0.6760855453350019,
          0.5446746556330159,
          0.5217063967007195,
          0.6039536794865501,
          0.4795151474680945,
          0.4477260290773074,
          0.5275295515571208,
          0.4087264487147434,
          0.41365740786881283,
          0.40319318698541384,
          0.4181713941011507,
          0.5138242361304182,
          0.5295314149023493,
          0.5374966687497075,
          0.4373945458849698,
          0.5404516465294597,
          0.49212119807104415,
          0.4453430539794152,
          0.3877435155190214,
          0.540664778478416,
          0.5564513276535663,
          0.4148387486693985,
          0.5202250399812606,
          0.4374607616775078,
          0.5348093310732229,
          0.5212926498936122,
          0.5179176814656893,
          0.5964718902048364,
          0.5630464296867594,
          0.42356956686404384,
          0.4204231565542463,
          0.412714358323742,
          0.5520627779481362,
          0.5656848318140089,
          0.5639347875956642,
          0.7903279441571223,
          0.4312307762792269,
          0.4581842308211731,
          0.4033514771831692,
          0.08350769267403077,
          0.5314914561132574,
          0.284622769178989,
          0.5308321045784767,
          0.4150614947271322,
          0.42289089591910217,
          0.5922262336560317,
          0.4475591225062793,
          0.4203510257320035,
          0.425844121503907,
          0.44980628698580216,
          0.354757107419094,
          0.5283192971754075,
          0.4561022966893362,
          0.5059022122129794,
          0.5089067234792687,
          0.5283081938351467,
          0.40839278758484315,
          0.5090902032465281,
          0.42039933006631497,
          0.4417712739664019,
          0.5309087708824518,
          0.42514221969033905,
          0.5058682058894594,
          0.5391843037514429,
          0.4454544282121679,
          0.42828415012700083,
          0.56592900897367,
          0.4265122939326452,
          0.6300958736679652,
          0.5567663099201606,
          0.49906487582660275,
          0.5130127971759639,
          0.2709734783267004
         ],
         "z": [
          0.012799123302102089,
          0.9803676009178162,
          0.7512442469596863,
          0.9448201656341553,
          0.949901282787323,
          0.3638112246990204,
          0.3371722996234894,
          1.0090478658676147,
          0.1561417430639267,
          0.9802955985069275,
          0.18893584609031677,
          0.6144714951515198,
          0.005199369043111801,
          0.9840975403785706,
          0.8406097292900085,
          0.06180797517299652,
          0.8196315169334412,
          0.08244264125823975,
          1.0076640844345093,
          0.001988561823964119,
          0.9977789521217346,
          0.9959993958473206,
          0.6690703630447388,
          -0.016518181189894676,
          -0.014226393774151802,
          1.0156086683273315,
          0.2596498131752014,
          0.004954207688570023,
          0.030967945232987404,
          0.7184126973152161,
          1.0188013315200806,
          0.6525996923446655,
          0.7449609637260437,
          0.07437748461961746,
          1.0050729513168335,
          1.0139249563217163,
          0.09423032402992249,
          0.2274893820285797,
          0.004528913646936417,
          0.07056912034749985,
          1.0202232599258423,
          0.035694122314453125,
          0.9382104277610779,
          0.05370847135782242,
          1.0138453245162964,
          -0.0034301718696951866,
          1.028662085533142,
          0.0491010844707489,
          0.07299482077360153,
          0.01977422647178173,
          0.40470820665359497,
          1.0028303861618042,
          1.0224446058273315,
          0.9714879393577576,
          1.0070821046829224,
          0.9449431300163269,
          0.35286080837249756,
          0.17049172520637512,
          0.1136092022061348,
          0.07154127955436707,
          0.06287430971860886,
          0.08776731044054031,
          0.031530991196632385,
          1.0144466161727905,
          1.0085092782974243,
          0.9880022406578064,
          0.014947222545742989,
          0.9826369285583496,
          1.0148645639419556,
          0.002507215365767479,
          0.12442470341920853,
          0.990959107875824,
          0.8042213916778564,
          0.060166358947753906,
          1.0057052373886108,
          0.01201164722442627,
          0.2767709791660309,
          1.0137969255447388,
          0.999940812587738,
          0.14631232619285583,
          0.9447881579399109,
          0.03238232433795929,
          0.03491218388080597,
          0.0643334612250328,
          0.9195978045463562,
          0.3305438756942749,
          0.943227231502533,
          0.8111119270324707,
          0.006656354293227196,
          0.006379133090376854,
          0.08737815171480179,
          0.03955934941768646,
          1.0013959407806396,
          0.3569428622722626,
          0.14403784275054932,
          0.20885112881660461,
          0.6954871416091919,
          0.835728108882904,
          0.00028085894882678986,
          0.019347229972481728,
          0.035693712532520294,
          0.0075112320482730865,
          0.7615988850593567,
          0.9559687972068787,
          0.028682516887784004,
          1.0131431818008423,
          0.9415811896324158,
          1.0116804838180542,
          0.07597869634628296,
          0.9055530428886414,
          0.01571968011558056,
          0.22911502420902252,
          0.9790694117546082,
          0.03206276148557663,
          0.9248173832893372,
          0.9846552014350891,
          -0.004348420538008213,
          0.026823269203305244,
          0.8581617474555969,
          0.03362333029508591,
          0.4133087396621704,
          0.9386633038520813,
          1.0220128297805786,
          1.0148221254348755,
          -0.016518181189894676
         ]
        }
       ],
       "layout": {
        "scene": {
         "camera": {
          "eye": {
           "x": 1.25,
           "y": 1.25,
           "z": 1.25
          }
         },
         "xaxis": {
          "title": {
           "text": "Eixo X"
          }
         },
         "yaxis": {
          "title": {
           "text": "Eixo Y"
          }
         },
         "zaxis": {
          "title": {
           "text": "Eixo Z"
          }
         }
        },
        "template": {
         "data": {
          "bar": [
           {
            "error_x": {
             "color": "#2a3f5f"
            },
            "error_y": {
             "color": "#2a3f5f"
            },
            "marker": {
             "line": {
              "color": "#E5ECF6",
              "width": 0.5
             },
             "pattern": {
              "fillmode": "overlay",
              "size": 10,
              "solidity": 0.2
             }
            },
            "type": "bar"
           }
          ],
          "barpolar": [
           {
            "marker": {
             "line": {
              "color": "#E5ECF6",
              "width": 0.5
             },
             "pattern": {
              "fillmode": "overlay",
              "size": 10,
              "solidity": 0.2
             }
            },
            "type": "barpolar"
           }
          ],
          "carpet": [
           {
            "aaxis": {
             "endlinecolor": "#2a3f5f",
             "gridcolor": "white",
             "linecolor": "white",
             "minorgridcolor": "white",
             "startlinecolor": "#2a3f5f"
            },
            "baxis": {
             "endlinecolor": "#2a3f5f",
             "gridcolor": "white",
             "linecolor": "white",
             "minorgridcolor": "white",
             "startlinecolor": "#2a3f5f"
            },
            "type": "carpet"
           }
          ],
          "choropleth": [
           {
            "colorbar": {
             "outlinewidth": 0,
             "ticks": ""
            },
            "type": "choropleth"
           }
          ],
          "contour": [
           {
            "colorbar": {
             "outlinewidth": 0,
             "ticks": ""
            },
            "colorscale": [
             [
              0,
              "#0d0887"
             ],
             [
              0.1111111111111111,
              "#46039f"
             ],
             [
              0.2222222222222222,
              "#7201a8"
             ],
             [
              0.3333333333333333,
              "#9c179e"
             ],
             [
              0.4444444444444444,
              "#bd3786"
             ],
             [
              0.5555555555555556,
              "#d8576b"
             ],
             [
              0.6666666666666666,
              "#ed7953"
             ],
             [
              0.7777777777777778,
              "#fb9f3a"
             ],
             [
              0.8888888888888888,
              "#fdca26"
             ],
             [
              1,
              "#f0f921"
             ]
            ],
            "type": "contour"
           }
          ],
          "contourcarpet": [
           {
            "colorbar": {
             "outlinewidth": 0,
             "ticks": ""
            },
            "type": "contourcarpet"
           }
          ],
          "heatmap": [
           {
            "colorbar": {
             "outlinewidth": 0,
             "ticks": ""
            },
            "colorscale": [
             [
              0,
              "#0d0887"
             ],
             [
              0.1111111111111111,
              "#46039f"
             ],
             [
              0.2222222222222222,
              "#7201a8"
             ],
             [
              0.3333333333333333,
              "#9c179e"
             ],
             [
              0.4444444444444444,
              "#bd3786"
             ],
             [
              0.5555555555555556,
              "#d8576b"
             ],
             [
              0.6666666666666666,
              "#ed7953"
             ],
             [
              0.7777777777777778,
              "#fb9f3a"
             ],
             [
              0.8888888888888888,
              "#fdca26"
             ],
             [
              1,
              "#f0f921"
             ]
            ],
            "type": "heatmap"
           }
          ],
          "heatmapgl": [
           {
            "colorbar": {
             "outlinewidth": 0,
             "ticks": ""
            },
            "colorscale": [
             [
              0,
              "#0d0887"
             ],
             [
              0.1111111111111111,
              "#46039f"
             ],
             [
              0.2222222222222222,
              "#7201a8"
             ],
             [
              0.3333333333333333,
              "#9c179e"
             ],
             [
              0.4444444444444444,
              "#bd3786"
             ],
             [
              0.5555555555555556,
              "#d8576b"
             ],
             [
              0.6666666666666666,
              "#ed7953"
             ],
             [
              0.7777777777777778,
              "#fb9f3a"
             ],
             [
              0.8888888888888888,
              "#fdca26"
             ],
             [
              1,
              "#f0f921"
             ]
            ],
            "type": "heatmapgl"
           }
          ],
          "histogram": [
           {
            "marker": {
             "pattern": {
              "fillmode": "overlay",
              "size": 10,
              "solidity": 0.2
             }
            },
            "type": "histogram"
           }
          ],
          "histogram2d": [
           {
            "colorbar": {
             "outlinewidth": 0,
             "ticks": ""
            },
            "colorscale": [
             [
              0,
              "#0d0887"
             ],
             [
              0.1111111111111111,
              "#46039f"
             ],
             [
              0.2222222222222222,
              "#7201a8"
             ],
             [
              0.3333333333333333,
              "#9c179e"
             ],
             [
              0.4444444444444444,
              "#bd3786"
             ],
             [
              0.5555555555555556,
              "#d8576b"
             ],
             [
              0.6666666666666666,
              "#ed7953"
             ],
             [
              0.7777777777777778,
              "#fb9f3a"
             ],
             [
              0.8888888888888888,
              "#fdca26"
             ],
             [
              1,
              "#f0f921"
             ]
            ],
            "type": "histogram2d"
           }
          ],
          "histogram2dcontour": [
           {
            "colorbar": {
             "outlinewidth": 0,
             "ticks": ""
            },
            "colorscale": [
             [
              0,
              "#0d0887"
             ],
             [
              0.1111111111111111,
              "#46039f"
             ],
             [
              0.2222222222222222,
              "#7201a8"
             ],
             [
              0.3333333333333333,
              "#9c179e"
             ],
             [
              0.4444444444444444,
              "#bd3786"
             ],
             [
              0.5555555555555556,
              "#d8576b"
             ],
             [
              0.6666666666666666,
              "#ed7953"
             ],
             [
              0.7777777777777778,
              "#fb9f3a"
             ],
             [
              0.8888888888888888,
              "#fdca26"
             ],
             [
              1,
              "#f0f921"
             ]
            ],
            "type": "histogram2dcontour"
           }
          ],
          "mesh3d": [
           {
            "colorbar": {
             "outlinewidth": 0,
             "ticks": ""
            },
            "type": "mesh3d"
           }
          ],
          "parcoords": [
           {
            "line": {
             "colorbar": {
              "outlinewidth": 0,
              "ticks": ""
             }
            },
            "type": "parcoords"
           }
          ],
          "pie": [
           {
            "automargin": true,
            "type": "pie"
           }
          ],
          "scatter": [
           {
            "fillpattern": {
             "fillmode": "overlay",
             "size": 10,
             "solidity": 0.2
            },
            "type": "scatter"
           }
          ],
          "scatter3d": [
           {
            "line": {
             "colorbar": {
              "outlinewidth": 0,
              "ticks": ""
             }
            },
            "marker": {
             "colorbar": {
              "outlinewidth": 0,
              "ticks": ""
             }
            },
            "type": "scatter3d"
           }
          ],
          "scattercarpet": [
           {
            "marker": {
             "colorbar": {
              "outlinewidth": 0,
              "ticks": ""
             }
            },
            "type": "scattercarpet"
           }
          ],
          "scattergeo": [
           {
            "marker": {
             "colorbar": {
              "outlinewidth": 0,
              "ticks": ""
             }
            },
            "type": "scattergeo"
           }
          ],
          "scattergl": [
           {
            "marker": {
             "colorbar": {
              "outlinewidth": 0,
              "ticks": ""
             }
            },
            "type": "scattergl"
           }
          ],
          "scattermapbox": [
           {
            "marker": {
             "colorbar": {
              "outlinewidth": 0,
              "ticks": ""
             }
            },
            "type": "scattermapbox"
           }
          ],
          "scatterpolar": [
           {
            "marker": {
             "colorbar": {
              "outlinewidth": 0,
              "ticks": ""
             }
            },
            "type": "scatterpolar"
           }
          ],
          "scatterpolargl": [
           {
            "marker": {
             "colorbar": {
              "outlinewidth": 0,
              "ticks": ""
             }
            },
            "type": "scatterpolargl"
           }
          ],
          "scatterternary": [
           {
            "marker": {
             "colorbar": {
              "outlinewidth": 0,
              "ticks": ""
             }
            },
            "type": "scatterternary"
           }
          ],
          "surface": [
           {
            "colorbar": {
             "outlinewidth": 0,
             "ticks": ""
            },
            "colorscale": [
             [
              0,
              "#0d0887"
             ],
             [
              0.1111111111111111,
              "#46039f"
             ],
             [
              0.2222222222222222,
              "#7201a8"
             ],
             [
              0.3333333333333333,
              "#9c179e"
             ],
             [
              0.4444444444444444,
              "#bd3786"
             ],
             [
              0.5555555555555556,
              "#d8576b"
             ],
             [
              0.6666666666666666,
              "#ed7953"
             ],
             [
              0.7777777777777778,
              "#fb9f3a"
             ],
             [
              0.8888888888888888,
              "#fdca26"
             ],
             [
              1,
              "#f0f921"
             ]
            ],
            "type": "surface"
           }
          ],
          "table": [
           {
            "cells": {
             "fill": {
              "color": "#EBF0F8"
             },
             "line": {
              "color": "white"
             }
            },
            "header": {
             "fill": {
              "color": "#C8D4E3"
             },
             "line": {
              "color": "white"
             }
            },
            "type": "table"
           }
          ]
         },
         "layout": {
          "annotationdefaults": {
           "arrowcolor": "#2a3f5f",
           "arrowhead": 0,
           "arrowwidth": 1
          },
          "autotypenumbers": "strict",
          "coloraxis": {
           "colorbar": {
            "outlinewidth": 0,
            "ticks": ""
           }
          },
          "colorscale": {
           "diverging": [
            [
             0,
             "#8e0152"
            ],
            [
             0.1,
             "#c51b7d"
            ],
            [
             0.2,
             "#de77ae"
            ],
            [
             0.3,
             "#f1b6da"
            ],
            [
             0.4,
             "#fde0ef"
            ],
            [
             0.5,
             "#f7f7f7"
            ],
            [
             0.6,
             "#e6f5d0"
            ],
            [
             0.7,
             "#b8e186"
            ],
            [
             0.8,
             "#7fbc41"
            ],
            [
             0.9,
             "#4d9221"
            ],
            [
             1,
             "#276419"
            ]
           ],
           "sequential": [
            [
             0,
             "#0d0887"
            ],
            [
             0.1111111111111111,
             "#46039f"
            ],
            [
             0.2222222222222222,
             "#7201a8"
            ],
            [
             0.3333333333333333,
             "#9c179e"
            ],
            [
             0.4444444444444444,
             "#bd3786"
            ],
            [
             0.5555555555555556,
             "#d8576b"
            ],
            [
             0.6666666666666666,
             "#ed7953"
            ],
            [
             0.7777777777777778,
             "#fb9f3a"
            ],
            [
             0.8888888888888888,
             "#fdca26"
            ],
            [
             1,
             "#f0f921"
            ]
           ],
           "sequentialminus": [
            [
             0,
             "#0d0887"
            ],
            [
             0.1111111111111111,
             "#46039f"
            ],
            [
             0.2222222222222222,
             "#7201a8"
            ],
            [
             0.3333333333333333,
             "#9c179e"
            ],
            [
             0.4444444444444444,
             "#bd3786"
            ],
            [
             0.5555555555555556,
             "#d8576b"
            ],
            [
             0.6666666666666666,
             "#ed7953"
            ],
            [
             0.7777777777777778,
             "#fb9f3a"
            ],
            [
             0.8888888888888888,
             "#fdca26"
            ],
            [
             1,
             "#f0f921"
            ]
           ]
          },
          "colorway": [
           "#636efa",
           "#EF553B",
           "#00cc96",
           "#ab63fa",
           "#FFA15A",
           "#19d3f3",
           "#FF6692",
           "#B6E880",
           "#FF97FF",
           "#FECB52"
          ],
          "font": {
           "color": "#2a3f5f"
          },
          "geo": {
           "bgcolor": "white",
           "lakecolor": "white",
           "landcolor": "#E5ECF6",
           "showlakes": true,
           "showland": true,
           "subunitcolor": "white"
          },
          "hoverlabel": {
           "align": "left"
          },
          "hovermode": "closest",
          "mapbox": {
           "style": "light"
          },
          "paper_bgcolor": "white",
          "plot_bgcolor": "#E5ECF6",
          "polar": {
           "angularaxis": {
            "gridcolor": "white",
            "linecolor": "white",
            "ticks": ""
           },
           "bgcolor": "#E5ECF6",
           "radialaxis": {
            "gridcolor": "white",
            "linecolor": "white",
            "ticks": ""
           }
          },
          "scene": {
           "xaxis": {
            "backgroundcolor": "#E5ECF6",
            "gridcolor": "white",
            "gridwidth": 2,
            "linecolor": "white",
            "showbackground": true,
            "ticks": "",
            "zerolinecolor": "white"
           },
           "yaxis": {
            "backgroundcolor": "#E5ECF6",
            "gridcolor": "white",
            "gridwidth": 2,
            "linecolor": "white",
            "showbackground": true,
            "ticks": "",
            "zerolinecolor": "white"
           },
           "zaxis": {
            "backgroundcolor": "#E5ECF6",
            "gridcolor": "white",
            "gridwidth": 2,
            "linecolor": "white",
            "showbackground": true,
            "ticks": "",
            "zerolinecolor": "white"
           }
          },
          "shapedefaults": {
           "line": {
            "color": "#2a3f5f"
           }
          },
          "ternary": {
           "aaxis": {
            "gridcolor": "white",
            "linecolor": "white",
            "ticks": ""
           },
           "baxis": {
            "gridcolor": "white",
            "linecolor": "white",
            "ticks": ""
           },
           "bgcolor": "#E5ECF6",
           "caxis": {
            "gridcolor": "white",
            "linecolor": "white",
            "ticks": ""
           }
          },
          "title": {
           "x": 0.05
          },
          "xaxis": {
           "automargin": true,
           "gridcolor": "white",
           "linecolor": "white",
           "ticks": "",
           "title": {
            "standoff": 15
           },
           "zerolinecolor": "white",
           "zerolinewidth": 2
          },
          "yaxis": {
           "automargin": true,
           "gridcolor": "white",
           "linecolor": "white",
           "ticks": "",
           "title": {
            "standoff": 15
           },
           "zerolinecolor": "white",
           "zerolinewidth": 2
          }
         }
        }
       }
      }
     },
     "metadata": {},
     "output_type": "display_data"
    }
   ],
   "source": [
    "fig = go.Figure(data=[go.Scatter3d(\n",
    "    x=x1,\n",
    "    y=x2,\n",
    "    z=y,\n",
    "    mode='markers',\n",
    "    marker=dict(\n",
    "        size=8,\n",
    "        color='blue',\n",
    "        symbol='circle'\n",
    "    )\n",
    ")])\n",
    "\n",
    "fig.add_trace(go.Scatter3d(\n",
    "    x=x1,\n",
    "    y=x2,\n",
    "    z=ypred,\n",
    "    mode='markers',\n",
    "    marker=dict(\n",
    "        size=8,\n",
    "        color='red',\n",
    "        symbol='circle'\n",
    "    )\n",
    "))\n",
    "\n",
    "fig.update_layout(scene=dict(\n",
    "    xaxis_title='Eixo X',\n",
    "    yaxis_title='Eixo Y',\n",
    "    zaxis_title='Eixo Z',\n",
    "    camera_eye=dict(x=1.25, y=1.25, z=1.25)\n",
    "))\n",
    "\n",
    "fig.show()"
   ]
  }
 ],
 "metadata": {
  "kernelspec": {
   "display_name": "Python 3",
   "language": "python",
   "name": "python3"
  },
  "language_info": {
   "codemirror_mode": {
    "name": "ipython",
    "version": 3
   },
   "file_extension": ".py",
   "mimetype": "text/x-python",
   "name": "python",
   "nbconvert_exporter": "python",
   "pygments_lexer": "ipython3",
   "version": "3.11.0"
  }
 },
 "nbformat": 4,
 "nbformat_minor": 2
}
