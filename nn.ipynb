{
 "cells": [
  {
   "cell_type": "markdown",
   "metadata": {},
   "source": [
    "### Inteligência Computacional - Redes Neurais\n",
    "#### Aluno: Tales Nobre\n",
    "#### Matrícula: 20200025983"
   ]
  },
  {
   "cell_type": "markdown",
   "metadata": {},
   "source": [
    "##### Importação das bibliotecas"
   ]
  },
  {
   "cell_type": "code",
   "execution_count": 1103,
   "metadata": {},
   "outputs": [],
   "source": [
    "import pandas as pd\n",
    "import tensorflow as tf\n",
    "import matplotlib.pyplot as plt\n",
    "from plotly import graph_objects as go"
   ]
  },
  {
   "cell_type": "code",
   "execution_count": 1104,
   "metadata": {},
   "outputs": [
    {
     "data": {
      "text/html": [
       "<div>\n",
       "<style scoped>\n",
       "    .dataframe tbody tr th:only-of-type {\n",
       "        vertical-align: middle;\n",
       "    }\n",
       "\n",
       "    .dataframe tbody tr th {\n",
       "        vertical-align: top;\n",
       "    }\n",
       "\n",
       "    .dataframe thead th {\n",
       "        text-align: right;\n",
       "    }\n",
       "</style>\n",
       "<table border=\"1\" class=\"dataframe\">\n",
       "  <thead>\n",
       "    <tr style=\"text-align: right;\">\n",
       "      <th></th>\n",
       "      <th>feature1</th>\n",
       "      <th>feature2</th>\n",
       "      <th>label</th>\n",
       "    </tr>\n",
       "  </thead>\n",
       "  <tbody>\n",
       "    <tr>\n",
       "      <th>0</th>\n",
       "      <td>18.229471</td>\n",
       "      <td>11.048747</td>\n",
       "      <td>-1</td>\n",
       "    </tr>\n",
       "    <tr>\n",
       "      <th>1</th>\n",
       "      <td>20.181311</td>\n",
       "      <td>10.028006</td>\n",
       "      <td>-1</td>\n",
       "    </tr>\n",
       "    <tr>\n",
       "      <th>2</th>\n",
       "      <td>15.160702</td>\n",
       "      <td>20.113133</td>\n",
       "      <td>1</td>\n",
       "    </tr>\n",
       "    <tr>\n",
       "      <th>3</th>\n",
       "      <td>23.093181</td>\n",
       "      <td>10.264844</td>\n",
       "      <td>-1</td>\n",
       "    </tr>\n",
       "    <tr>\n",
       "      <th>4</th>\n",
       "      <td>22.499823</td>\n",
       "      <td>8.924172</td>\n",
       "      <td>-1</td>\n",
       "    </tr>\n",
       "    <tr>\n",
       "      <th>...</th>\n",
       "      <td>...</td>\n",
       "      <td>...</td>\n",
       "      <td>...</td>\n",
       "    </tr>\n",
       "    <tr>\n",
       "      <th>295</th>\n",
       "      <td>29.929468</td>\n",
       "      <td>10.174055</td>\n",
       "      <td>1</td>\n",
       "    </tr>\n",
       "    <tr>\n",
       "      <th>296</th>\n",
       "      <td>16.734167</td>\n",
       "      <td>5.940355</td>\n",
       "      <td>-1</td>\n",
       "    </tr>\n",
       "    <tr>\n",
       "      <th>297</th>\n",
       "      <td>19.851481</td>\n",
       "      <td>6.842028</td>\n",
       "      <td>-1</td>\n",
       "    </tr>\n",
       "    <tr>\n",
       "      <th>298</th>\n",
       "      <td>12.045648</td>\n",
       "      <td>16.523968</td>\n",
       "      <td>1</td>\n",
       "    </tr>\n",
       "    <tr>\n",
       "      <th>299</th>\n",
       "      <td>28.702192</td>\n",
       "      <td>14.159305</td>\n",
       "      <td>1</td>\n",
       "    </tr>\n",
       "  </tbody>\n",
       "</table>\n",
       "<p>300 rows × 3 columns</p>\n",
       "</div>"
      ],
      "text/plain": [
       "      feature1   feature2  label\n",
       "0    18.229471  11.048747     -1\n",
       "1    20.181311  10.028006     -1\n",
       "2    15.160702  20.113133      1\n",
       "3    23.093181  10.264844     -1\n",
       "4    22.499823   8.924172     -1\n",
       "..         ...        ...    ...\n",
       "295  29.929468  10.174055      1\n",
       "296  16.734167   5.940355     -1\n",
       "297  19.851481   6.842028     -1\n",
       "298  12.045648  16.523968      1\n",
       "299  28.702192  14.159305      1\n",
       "\n",
       "[300 rows x 3 columns]"
      ]
     },
     "execution_count": 1104,
     "metadata": {},
     "output_type": "execute_result"
    }
   ],
   "source": [
    "df = pd.read_csv('data/dataset_egg.csv')\n",
    "df"
   ]
  },
  {
   "cell_type": "code",
   "execution_count": 1105,
   "metadata": {},
   "outputs": [],
   "source": [
    "train_df = df.sample(frac=0.75, random_state=42)\n",
    "test_df = df.drop(train_df.index)\n",
    "N_train = len(train_df)\n",
    "N_test = len(test_df)"
   ]
  },
  {
   "cell_type": "markdown",
   "metadata": {},
   "source": [
    "#### Normalization"
   ]
  },
  {
   "cell_type": "code",
   "execution_count": 1106,
   "metadata": {},
   "outputs": [],
   "source": [
    "# # normalizing data\n",
    "# max_train_val = X.max(axis=0)\n",
    "# min_train_val = X.min(axis=0)\n",
    "# range_train = max_train_val - min_train_val\n",
    "\n",
    "# max_test_val = y.max(axis=0)\n",
    "# min_test_val = y.min(axis=0)\n",
    "# range_test = max_test_val - min_test_val\n",
    "\n",
    "# X = (X - min_train_val)/range_train\n",
    "# y = (y - min_test_val)/range_test"
   ]
  },
  {
   "cell_type": "code",
   "execution_count": 1107,
   "metadata": {},
   "outputs": [],
   "source": [
    "max_val = train_df.max(axis=0)\n",
    "min_val = train_df.min(axis=0)\n",
    "range = max_val - min_val\n",
    "train_df = (train_df - min_val)/range\n",
    "test_df = (test_df - min_val)/range\n",
    "# print('[0,1] train data:',train_df)\n",
    "# print('[0,1] test data:',test_df)"
   ]
  },
  {
   "cell_type": "code",
   "execution_count": 1108,
   "metadata": {},
   "outputs": [],
   "source": [
    "X_train = train_df.drop('label',axis=1)\n",
    "y_train = train_df['label']\n",
    "X_test = test_df.drop('label',axis=1)\n",
    "y_test = test_df['label']"
   ]
  },
  {
   "cell_type": "code",
   "execution_count": 1109,
   "metadata": {},
   "outputs": [],
   "source": [
    "ncol = [X_train.shape[1]]"
   ]
  },
  {
   "cell_type": "markdown",
   "metadata": {},
   "source": [
    "##### Rede Neural criada com uma arquitetura de 3 camadas + a de saída, tendo 2 camadas de 12 neurônios e uma de 48. Essa rede foi suficientemente boa para resolver o problema com um loss próximo de 0,02."
   ]
  },
  {
   "cell_type": "code",
   "execution_count": 1110,
   "metadata": {},
   "outputs": [
    {
     "name": "stdout",
     "output_type": "stream",
     "text": [
      "Model: \"sequential_89\"\n",
      "_________________________________________________________________\n",
      " Layer (type)                Output Shape              Param #   \n",
      "=================================================================\n",
      " dense_405 (Dense)           (None, 12)                36        \n",
      "                                                                 \n",
      " dense_406 (Dense)           (None, 48)                624       \n",
      "                                                                 \n",
      " dense_407 (Dense)           (None, 12)                588       \n",
      "                                                                 \n",
      " dense_408 (Dense)           (None, 1)                 13        \n",
      "                                                                 \n",
      "=================================================================\n",
      "Total params: 1,261\n",
      "Trainable params: 1,261\n",
      "Non-trainable params: 0\n",
      "_________________________________________________________________\n",
      "None\n"
     ]
    }
   ],
   "source": [
    "neural_net = tf.keras.Sequential([\n",
    "    tf.keras.layers.Dense(units=12, activation='relu',input_shape=ncol),\n",
    "    tf.keras.layers.Dense(units=48, activation='relu'),\n",
    "    tf.keras.layers.Dense(units=12, activation='relu'),\n",
    "    # tf.keras.layers.Dense(units=1,activation='tanh')\n",
    "    # tf.keras.layers.Dense(units=1,activation='sigmoid'),\n",
    "    tf.keras.layers.Dense(units=1)\n",
    "])\n",
    "print(neural_net.summary())"
   ]
  },
  {
   "cell_type": "code",
   "execution_count": 1111,
   "metadata": {},
   "outputs": [
    {
     "name": "stdout",
     "output_type": "stream",
     "text": [
      "Epoch 1/100\n",
      "11/11 [==============================] - 1s 19ms/step - loss: 0.4480 - accuracy: 0.4800 - val_loss: 0.3234 - val_accuracy: 0.5600\n",
      "Epoch 2/100\n",
      "11/11 [==============================] - 0s 5ms/step - loss: 0.3200 - accuracy: 0.4800 - val_loss: 0.2633 - val_accuracy: 0.6133\n",
      "Epoch 3/100\n",
      "11/11 [==============================] - 0s 5ms/step - loss: 0.2563 - accuracy: 0.6578 - val_loss: 0.2563 - val_accuracy: 0.6000\n",
      "Epoch 4/100\n",
      "11/11 [==============================] - 0s 5ms/step - loss: 0.2446 - accuracy: 0.5867 - val_loss: 0.2555 - val_accuracy: 0.4933\n",
      "Epoch 5/100\n",
      "11/11 [==============================] - 0s 5ms/step - loss: 0.2394 - accuracy: 0.5644 - val_loss: 0.2481 - val_accuracy: 0.5733\n",
      "Epoch 6/100\n",
      "11/11 [==============================] - 0s 5ms/step - loss: 0.2335 - accuracy: 0.6622 - val_loss: 0.2371 - val_accuracy: 0.6667\n",
      "Epoch 7/100\n",
      "11/11 [==============================] - 0s 11ms/step - loss: 0.2252 - accuracy: 0.7022 - val_loss: 0.2296 - val_accuracy: 0.6400\n",
      "Epoch 8/100\n",
      "11/11 [==============================] - 0s 5ms/step - loss: 0.2147 - accuracy: 0.7333 - val_loss: 0.2153 - val_accuracy: 0.7600\n",
      "Epoch 9/100\n",
      "11/11 [==============================] - 0s 4ms/step - loss: 0.2010 - accuracy: 0.7733 - val_loss: 0.2032 - val_accuracy: 0.8133\n",
      "Epoch 10/100\n",
      "11/11 [==============================] - 0s 4ms/step - loss: 0.1871 - accuracy: 0.7911 - val_loss: 0.1914 - val_accuracy: 0.8400\n",
      "Epoch 11/100\n",
      "11/11 [==============================] - 0s 6ms/step - loss: 0.1736 - accuracy: 0.8533 - val_loss: 0.1769 - val_accuracy: 0.8267\n",
      "Epoch 12/100\n",
      "11/11 [==============================] - 0s 6ms/step - loss: 0.1610 - accuracy: 0.8489 - val_loss: 0.1661 - val_accuracy: 0.8000\n",
      "Epoch 13/100\n",
      "11/11 [==============================] - 0s 5ms/step - loss: 0.1505 - accuracy: 0.8089 - val_loss: 0.1559 - val_accuracy: 0.8000\n",
      "Epoch 14/100\n",
      "11/11 [==============================] - 0s 4ms/step - loss: 0.1405 - accuracy: 0.8222 - val_loss: 0.1513 - val_accuracy: 0.8267\n",
      "Epoch 15/100\n",
      "11/11 [==============================] - 0s 6ms/step - loss: 0.1344 - accuracy: 0.8533 - val_loss: 0.1411 - val_accuracy: 0.8267\n",
      "Epoch 16/100\n",
      "11/11 [==============================] - 0s 6ms/step - loss: 0.1286 - accuracy: 0.8489 - val_loss: 0.1329 - val_accuracy: 0.8267\n",
      "Epoch 17/100\n",
      "11/11 [==============================] - 0s 5ms/step - loss: 0.1234 - accuracy: 0.8756 - val_loss: 0.1363 - val_accuracy: 0.8400\n",
      "Epoch 18/100\n",
      "11/11 [==============================] - 0s 5ms/step - loss: 0.1203 - accuracy: 0.8711 - val_loss: 0.1309 - val_accuracy: 0.8400\n",
      "Epoch 19/100\n",
      "11/11 [==============================] - 0s 5ms/step - loss: 0.1178 - accuracy: 0.8622 - val_loss: 0.1267 - val_accuracy: 0.8400\n",
      "Epoch 20/100\n",
      "11/11 [==============================] - 0s 4ms/step - loss: 0.1154 - accuracy: 0.8667 - val_loss: 0.1282 - val_accuracy: 0.8400\n",
      "Epoch 21/100\n",
      "11/11 [==============================] - 0s 6ms/step - loss: 0.1141 - accuracy: 0.8844 - val_loss: 0.1264 - val_accuracy: 0.8533\n",
      "Epoch 22/100\n",
      "11/11 [==============================] - 0s 6ms/step - loss: 0.1122 - accuracy: 0.8800 - val_loss: 0.1229 - val_accuracy: 0.8533\n",
      "Epoch 23/100\n",
      "11/11 [==============================] - 0s 5ms/step - loss: 0.1110 - accuracy: 0.8622 - val_loss: 0.1204 - val_accuracy: 0.8533\n",
      "Epoch 24/100\n",
      "11/11 [==============================] - 0s 4ms/step - loss: 0.1092 - accuracy: 0.8844 - val_loss: 0.1223 - val_accuracy: 0.8400\n",
      "Epoch 25/100\n",
      "11/11 [==============================] - 0s 4ms/step - loss: 0.1074 - accuracy: 0.8889 - val_loss: 0.1175 - val_accuracy: 0.8533\n",
      "Epoch 26/100\n",
      "11/11 [==============================] - 0s 5ms/step - loss: 0.1072 - accuracy: 0.8622 - val_loss: 0.1150 - val_accuracy: 0.8667\n",
      "Epoch 27/100\n",
      "11/11 [==============================] - 0s 5ms/step - loss: 0.1065 - accuracy: 0.8756 - val_loss: 0.1197 - val_accuracy: 0.8400\n",
      "Epoch 28/100\n",
      "11/11 [==============================] - 0s 5ms/step - loss: 0.1023 - accuracy: 0.8844 - val_loss: 0.1098 - val_accuracy: 0.8533\n",
      "Epoch 29/100\n",
      "11/11 [==============================] - 0s 6ms/step - loss: 0.1020 - accuracy: 0.8889 - val_loss: 0.1124 - val_accuracy: 0.8400\n",
      "Epoch 30/100\n",
      "11/11 [==============================] - 0s 5ms/step - loss: 0.0989 - accuracy: 0.8933 - val_loss: 0.1101 - val_accuracy: 0.8533\n",
      "Epoch 31/100\n",
      "11/11 [==============================] - 0s 5ms/step - loss: 0.0980 - accuracy: 0.8978 - val_loss: 0.1064 - val_accuracy: 0.8533\n",
      "Epoch 32/100\n",
      "11/11 [==============================] - 0s 4ms/step - loss: 0.0963 - accuracy: 0.8889 - val_loss: 0.1030 - val_accuracy: 0.8667\n",
      "Epoch 33/100\n",
      "11/11 [==============================] - 0s 5ms/step - loss: 0.0944 - accuracy: 0.8933 - val_loss: 0.1049 - val_accuracy: 0.8533\n",
      "Epoch 34/100\n",
      "11/11 [==============================] - 0s 5ms/step - loss: 0.0915 - accuracy: 0.8889 - val_loss: 0.0975 - val_accuracy: 0.8667\n",
      "Epoch 35/100\n",
      "11/11 [==============================] - 0s 5ms/step - loss: 0.0890 - accuracy: 0.8889 - val_loss: 0.0989 - val_accuracy: 0.8667\n",
      "Epoch 36/100\n",
      "11/11 [==============================] - 0s 5ms/step - loss: 0.0872 - accuracy: 0.9022 - val_loss: 0.0979 - val_accuracy: 0.8800\n",
      "Epoch 37/100\n",
      "11/11 [==============================] - 0s 4ms/step - loss: 0.0853 - accuracy: 0.9022 - val_loss: 0.0927 - val_accuracy: 0.8667\n",
      "Epoch 38/100\n",
      "11/11 [==============================] - 0s 5ms/step - loss: 0.0825 - accuracy: 0.9111 - val_loss: 0.0920 - val_accuracy: 0.8667\n",
      "Epoch 39/100\n",
      "11/11 [==============================] - 0s 5ms/step - loss: 0.0788 - accuracy: 0.9156 - val_loss: 0.0885 - val_accuracy: 0.8800\n",
      "Epoch 40/100\n",
      "11/11 [==============================] - 0s 4ms/step - loss: 0.0774 - accuracy: 0.9111 - val_loss: 0.0874 - val_accuracy: 0.8933\n",
      "Epoch 41/100\n",
      "11/11 [==============================] - 0s 4ms/step - loss: 0.0755 - accuracy: 0.9422 - val_loss: 0.0827 - val_accuracy: 0.9200\n",
      "Epoch 42/100\n",
      "11/11 [==============================] - 0s 4ms/step - loss: 0.0711 - accuracy: 0.9422 - val_loss: 0.0771 - val_accuracy: 0.9067\n",
      "Epoch 43/100\n",
      "11/11 [==============================] - 0s 4ms/step - loss: 0.0680 - accuracy: 0.9378 - val_loss: 0.0775 - val_accuracy: 0.9200\n",
      "Epoch 44/100\n",
      "11/11 [==============================] - 0s 4ms/step - loss: 0.0666 - accuracy: 0.9511 - val_loss: 0.0743 - val_accuracy: 0.9467\n",
      "Epoch 45/100\n",
      "11/11 [==============================] - 0s 5ms/step - loss: 0.0631 - accuracy: 0.9467 - val_loss: 0.0674 - val_accuracy: 0.9467\n",
      "Epoch 46/100\n",
      "11/11 [==============================] - 0s 4ms/step - loss: 0.0603 - accuracy: 0.9467 - val_loss: 0.0673 - val_accuracy: 0.9467\n",
      "Epoch 47/100\n",
      "11/11 [==============================] - 0s 8ms/step - loss: 0.0587 - accuracy: 0.9644 - val_loss: 0.0644 - val_accuracy: 0.9600\n",
      "Epoch 48/100\n",
      "11/11 [==============================] - 0s 3ms/step - loss: 0.0551 - accuracy: 0.9644 - val_loss: 0.0592 - val_accuracy: 0.9467\n",
      "Epoch 49/100\n",
      "11/11 [==============================] - 0s 5ms/step - loss: 0.0530 - accuracy: 0.9556 - val_loss: 0.0587 - val_accuracy: 0.9600\n",
      "Epoch 50/100\n",
      "11/11 [==============================] - 0s 4ms/step - loss: 0.0504 - accuracy: 0.9778 - val_loss: 0.0564 - val_accuracy: 0.9600\n",
      "Epoch 51/100\n",
      "11/11 [==============================] - 0s 5ms/step - loss: 0.0485 - accuracy: 0.9778 - val_loss: 0.0547 - val_accuracy: 0.9600\n",
      "Epoch 52/100\n",
      "11/11 [==============================] - 0s 5ms/step - loss: 0.0483 - accuracy: 0.9689 - val_loss: 0.0526 - val_accuracy: 0.9733\n",
      "Epoch 53/100\n",
      "11/11 [==============================] - 0s 5ms/step - loss: 0.0448 - accuracy: 0.9822 - val_loss: 0.0520 - val_accuracy: 0.9733\n",
      "Epoch 54/100\n",
      "11/11 [==============================] - 0s 5ms/step - loss: 0.0435 - accuracy: 0.9822 - val_loss: 0.0487 - val_accuracy: 0.9733\n",
      "Epoch 55/100\n",
      "11/11 [==============================] - 0s 4ms/step - loss: 0.0415 - accuracy: 0.9778 - val_loss: 0.0471 - val_accuracy: 0.9733\n",
      "Epoch 56/100\n",
      "11/11 [==============================] - 0s 4ms/step - loss: 0.0387 - accuracy: 0.9911 - val_loss: 0.0441 - val_accuracy: 0.9733\n",
      "Epoch 57/100\n",
      "11/11 [==============================] - 0s 4ms/step - loss: 0.0369 - accuracy: 0.9956 - val_loss: 0.0450 - val_accuracy: 0.9733\n",
      "Epoch 58/100\n",
      "11/11 [==============================] - 0s 4ms/step - loss: 0.0358 - accuracy: 0.9867 - val_loss: 0.0402 - val_accuracy: 0.9733\n",
      "Epoch 59/100\n",
      "11/11 [==============================] - 0s 4ms/step - loss: 0.0347 - accuracy: 0.9956 - val_loss: 0.0431 - val_accuracy: 0.9733\n",
      "Epoch 60/100\n",
      "11/11 [==============================] - 0s 5ms/step - loss: 0.0337 - accuracy: 0.9822 - val_loss: 0.0416 - val_accuracy: 0.9733\n",
      "Epoch 61/100\n",
      "11/11 [==============================] - 0s 5ms/step - loss: 0.0319 - accuracy: 0.9867 - val_loss: 0.0392 - val_accuracy: 0.9733\n",
      "Epoch 62/100\n",
      "11/11 [==============================] - 0s 5ms/step - loss: 0.0314 - accuracy: 0.9778 - val_loss: 0.0398 - val_accuracy: 0.9733\n",
      "Epoch 63/100\n",
      "11/11 [==============================] - 0s 5ms/step - loss: 0.0300 - accuracy: 0.9956 - val_loss: 0.0378 - val_accuracy: 0.9733\n",
      "Epoch 64/100\n",
      "11/11 [==============================] - 0s 4ms/step - loss: 0.0287 - accuracy: 0.9867 - val_loss: 0.0383 - val_accuracy: 0.9733\n",
      "Epoch 65/100\n",
      "11/11 [==============================] - 0s 5ms/step - loss: 0.0289 - accuracy: 0.9822 - val_loss: 0.0352 - val_accuracy: 0.9733\n",
      "Epoch 66/100\n",
      "11/11 [==============================] - 0s 4ms/step - loss: 0.0279 - accuracy: 0.9867 - val_loss: 0.0354 - val_accuracy: 0.9733\n",
      "Epoch 67/100\n",
      "11/11 [==============================] - 0s 4ms/step - loss: 0.0276 - accuracy: 0.9956 - val_loss: 0.0366 - val_accuracy: 0.9733\n",
      "Epoch 68/100\n",
      "11/11 [==============================] - 0s 5ms/step - loss: 0.0282 - accuracy: 0.9778 - val_loss: 0.0333 - val_accuracy: 0.9733\n",
      "Epoch 69/100\n",
      "11/11 [==============================] - 0s 5ms/step - loss: 0.0266 - accuracy: 0.9911 - val_loss: 0.0342 - val_accuracy: 0.9733\n",
      "Epoch 70/100\n",
      "11/11 [==============================] - 0s 5ms/step - loss: 0.0269 - accuracy: 0.9956 - val_loss: 0.0365 - val_accuracy: 0.9600\n",
      "Epoch 71/100\n",
      "11/11 [==============================] - 0s 5ms/step - loss: 0.0257 - accuracy: 0.9778 - val_loss: 0.0322 - val_accuracy: 0.9733\n",
      "Epoch 72/100\n",
      "11/11 [==============================] - 0s 5ms/step - loss: 0.0245 - accuracy: 0.9822 - val_loss: 0.0341 - val_accuracy: 0.9733\n",
      "Epoch 73/100\n",
      "11/11 [==============================] - 0s 8ms/step - loss: 0.0240 - accuracy: 0.9822 - val_loss: 0.0335 - val_accuracy: 0.9733\n",
      "Epoch 74/100\n",
      "11/11 [==============================] - 0s 5ms/step - loss: 0.0238 - accuracy: 0.9778 - val_loss: 0.0316 - val_accuracy: 0.9733\n",
      "Epoch 75/100\n",
      "11/11 [==============================] - 0s 4ms/step - loss: 0.0230 - accuracy: 0.9822 - val_loss: 0.0336 - val_accuracy: 0.9600\n",
      "Epoch 76/100\n",
      "11/11 [==============================] - 0s 4ms/step - loss: 0.0232 - accuracy: 0.9822 - val_loss: 0.0319 - val_accuracy: 0.9733\n",
      "Epoch 77/100\n",
      "11/11 [==============================] - 0s 5ms/step - loss: 0.0224 - accuracy: 0.9867 - val_loss: 0.0316 - val_accuracy: 0.9733\n",
      "Epoch 78/100\n",
      "11/11 [==============================] - 0s 4ms/step - loss: 0.0226 - accuracy: 0.9778 - val_loss: 0.0312 - val_accuracy: 0.9733\n",
      "Epoch 79/100\n",
      "11/11 [==============================] - 0s 5ms/step - loss: 0.0211 - accuracy: 0.9911 - val_loss: 0.0319 - val_accuracy: 0.9733\n",
      "Epoch 80/100\n",
      "11/11 [==============================] - 0s 4ms/step - loss: 0.0208 - accuracy: 0.9956 - val_loss: 0.0306 - val_accuracy: 0.9600\n",
      "Epoch 81/100\n",
      "11/11 [==============================] - 0s 5ms/step - loss: 0.0205 - accuracy: 0.9867 - val_loss: 0.0287 - val_accuracy: 0.9867\n",
      "Epoch 82/100\n",
      "11/11 [==============================] - 0s 5ms/step - loss: 0.0198 - accuracy: 0.9956 - val_loss: 0.0301 - val_accuracy: 0.9733\n",
      "Epoch 83/100\n",
      "11/11 [==============================] - 0s 5ms/step - loss: 0.0194 - accuracy: 0.9911 - val_loss: 0.0288 - val_accuracy: 0.9867\n",
      "Epoch 84/100\n",
      "11/11 [==============================] - 0s 4ms/step - loss: 0.0191 - accuracy: 0.9867 - val_loss: 0.0283 - val_accuracy: 0.9867\n",
      "Epoch 85/100\n",
      "11/11 [==============================] - 0s 5ms/step - loss: 0.0194 - accuracy: 0.9911 - val_loss: 0.0302 - val_accuracy: 0.9733\n",
      "Epoch 86/100\n",
      "11/11 [==============================] - 0s 5ms/step - loss: 0.0192 - accuracy: 0.9822 - val_loss: 0.0260 - val_accuracy: 0.9867\n",
      "Epoch 87/100\n",
      "11/11 [==============================] - 0s 4ms/step - loss: 0.0185 - accuracy: 0.9911 - val_loss: 0.0276 - val_accuracy: 0.9867\n",
      "Epoch 88/100\n",
      "11/11 [==============================] - 0s 5ms/step - loss: 0.0202 - accuracy: 0.9956 - val_loss: 0.0307 - val_accuracy: 0.9733\n",
      "Epoch 89/100\n",
      "11/11 [==============================] - 0s 4ms/step - loss: 0.0187 - accuracy: 0.9867 - val_loss: 0.0263 - val_accuracy: 0.9867\n",
      "Epoch 90/100\n",
      "11/11 [==============================] - 0s 4ms/step - loss: 0.0178 - accuracy: 0.9911 - val_loss: 0.0269 - val_accuracy: 0.9867\n",
      "Epoch 91/100\n",
      "11/11 [==============================] - 0s 6ms/step - loss: 0.0177 - accuracy: 0.9956 - val_loss: 0.0305 - val_accuracy: 0.9733\n",
      "Epoch 92/100\n",
      "11/11 [==============================] - 0s 4ms/step - loss: 0.0176 - accuracy: 0.9867 - val_loss: 0.0268 - val_accuracy: 0.9867\n",
      "Epoch 93/100\n",
      "11/11 [==============================] - 0s 6ms/step - loss: 0.0172 - accuracy: 0.9956 - val_loss: 0.0280 - val_accuracy: 0.9733\n",
      "Epoch 94/100\n",
      "11/11 [==============================] - 0s 5ms/step - loss: 0.0171 - accuracy: 0.9956 - val_loss: 0.0275 - val_accuracy: 0.9733\n",
      "Epoch 95/100\n",
      "11/11 [==============================] - 0s 5ms/step - loss: 0.0169 - accuracy: 0.9956 - val_loss: 0.0267 - val_accuracy: 0.9867\n",
      "Epoch 96/100\n",
      "11/11 [==============================] - 0s 5ms/step - loss: 0.0171 - accuracy: 0.9911 - val_loss: 0.0263 - val_accuracy: 0.9867\n",
      "Epoch 97/100\n",
      "11/11 [==============================] - 0s 5ms/step - loss: 0.0168 - accuracy: 0.9956 - val_loss: 0.0287 - val_accuracy: 0.9733\n",
      "Epoch 98/100\n",
      "11/11 [==============================] - 0s 5ms/step - loss: 0.0168 - accuracy: 0.9911 - val_loss: 0.0260 - val_accuracy: 0.9867\n",
      "Epoch 99/100\n",
      "11/11 [==============================] - 0s 8ms/step - loss: 0.0162 - accuracy: 0.9956 - val_loss: 0.0278 - val_accuracy: 0.9733\n",
      "Epoch 100/100\n",
      "11/11 [==============================] - 0s 3ms/step - loss: 0.0162 - accuracy: 0.9911 - val_loss: 0.0261 - val_accuracy: 0.9867\n",
      "3/3 [==============================] - 0s 417us/step - loss: 0.0261 - accuracy: 0.9867\n",
      "Loss: 0.02609764225780964, Accuracy: 0.9866666793823242\n"
     ]
    }
   ],
   "source": [
    "neural_net.compile(optimizer='adam',loss='mse', metrics=['accuracy'])\n",
    "\n",
    "losses = neural_net.fit(X_train, y_train,\n",
    "\t\t\t\tvalidation_data=(X_test, y_test),\n",
    "\t\t\t\tbatch_size=N_train//10, \n",
    "\t\t\t\tepochs=100, # total epoch\n",
    ")\n",
    "\n",
    "loss, accuracy = neural_net.evaluate(X_test, y_test)\n",
    "print(f\"Loss: {loss}, Accuracy: {accuracy}\")"
   ]
  },
  {
   "cell_type": "markdown",
   "metadata": {},
   "source": [
    "##### Função para salvar a melhor Rede Neural"
   ]
  },
  {
   "cell_type": "code",
   "execution_count": 1112,
   "metadata": {},
   "outputs": [],
   "source": [
    "models = [neural_net]\n",
    "validation_losses = [losses.history['val_loss'][-1]]\n",
    "\n",
    "# Encontra o índice do melhor modelo\n",
    "best_model_index = validation_losses.index(min(validation_losses))\n",
    "\n",
    "# Salva o melhor modelo\n",
    "best_model = models[best_model_index]\n",
    "best_model.save('best_model.h5')"
   ]
  },
  {
   "cell_type": "code",
   "execution_count": 1113,
   "metadata": {},
   "outputs": [
    {
     "data": {
      "text/plain": [
       "<Axes: >"
      ]
     },
     "execution_count": 1113,
     "metadata": {},
     "output_type": "execute_result"
    },
    {
     "data": {
      "image/png": "[encoded data removed]",
      "text/plain": [
       "<Figure size 640x480 with 1 Axes>"
      ]
     },
     "metadata": {},
     "output_type": "display_data"
    }
   ],
   "source": [
    "# some prediction\n",
    "# print(neural_net.predict(X_test.iloc[0:4,:]))\n",
    "# print(y_test.iloc[0:4])\n",
    "\n",
    "# mse vs epoch \n",
    "loss_df = pd.DataFrame(losses.history)\n",
    "loss_df.loc[:,['loss','val_loss']].plot()"
   ]
  },
  {
   "cell_type": "code",
   "execution_count": 1114,
   "metadata": {},
   "outputs": [
    {
     "name": "stdout",
     "output_type": "stream",
     "text": [
      "3/3 [==============================] - 0s 2ms/step\n"
     ]
    }
   ],
   "source": [
    "X = X_test.iloc[:,:]\n",
    "x1 = (X.iloc[:,0]).to_numpy()\n",
    "x2 = (X.iloc[:,1]).to_numpy()\n",
    "y = (y_test.iloc[:]).to_numpy()\n",
    "ypred = neural_net.predict(X)\n",
    "ypred = ypred.reshape((len(ypred),))"
   ]
  },
  {
   "cell_type": "markdown",
   "metadata": {},
   "source": [
    "##### Gráfico interativo dos pontos"
   ]
  },
  {
   "cell_type": "code",
   "execution_count": 1115,
   "metadata": {},
   "outputs": [
    {
     "data": {
      "application/vnd.plotly.v1+json": {
       "config": {
        "plotlyServerURL": "https://plot.ly"
       },
       "data": [
        {
         "marker": {
          "color": "blue",
          "size": 8,
          "symbol": "circle"
         },
         "mode": "markers",
         "type": "scatter3d",
         "x": [
          0.5034777040177313,
          0.6404800218087132,
          0.13156822723523565,
          0.6306935507652566,
          0.361446540009915,
          0.6006998097439787,
          0.4082824576101364,
          0.49182798406256406,
          0.5236828931103569,
          0.47243674387567325,
          0.2438411561405184,
          0.4952983461286733,
          0.4149511466765509,
          0.22027652763065222,
          0.5068430060722646,
          0.8913956333520086,
          0.5755642423393177,
          0.370629061180863,
          0.9915291119708656,
          0.5785844536831064,
          0.4877495156705457,
          0.5762566989060852,
          0.4975814149500666,
          0.5855215430324084,
          0.47472186413460493,
          0.4437834161041227,
          0.8622461638354243,
          0.549539415454311,
          0.5411767769305156,
          0.48879008931332335,
          0.3555097165708174,
          0.36569249379913465,
          0.050946931495260826,
          0.8078462360316945,
          0.6360392877026426,
          0.29355805185251915,
          0.5656136997788626,
          1.0011814124781964,
          0.5253590184461709,
          0.4787030097079319,
          0.9714022439149568,
          0.467736889283384,
          0.4586872611972295,
          0.478505365553075,
          0.04041657110398205,
          0.30097630711875567,
          0.8252494994656355,
          0.3165381062198016,
          0.09395929372199195,
          0.08061743453153111,
          0.8800721917862491,
          0.30099247723071887,
          0.6131383492449597,
          0.5766761409056017,
          0.21154874837119855,
          0.6335222546152482,
          0.10913381520119002,
          0.04810714110438636,
          0.9413669965678327,
          0.45811978339691917,
          0.3806282093244114,
          0.5145456013428185,
          0.043567038342225466,
          0.08886032662113663,
          0.4002120797974316,
          0.44331389316181036,
          0.40111602798138374,
          0.20048578234213363,
          0.3265511380194664,
          0.5686128930503412,
          0.20955158311011943,
          0.5923475272363631,
          0.3187170466599197,
          0.12069803664079792,
          0.9043817673642982
         ],
         "y": [
          0.49777829390344536,
          0.5086423999727167,
          0.15442328589677104,
          0.32978161238069303,
          0.07560502400471122,
          0.48088626464669504,
          0.05139926765585654,
          0.49110654211900234,
          0.3515226583108427,
          0.5108409710778419,
          0.4005784043186506,
          0.41945777157016434,
          0.2752078150071345,
          0.5453134163957761,
          0.47801866066397114,
          0.7501695733903122,
          0.39212191502754834,
          0.47330123936591295,
          0.40673120141075125,
          0.4994010900173444,
          0.3907507925380154,
          0.49157412285380264,
          0.4682311808895187,
          0.6462175239093018,
          0.5127713322201656,
          0.6260677650888644,
          0.14341708269794268,
          0.43720557309607316,
          0.09618739352854808,
          0.49317527558874147,
          0.5361478256330277,
          0.05340195309702338,
          0.31725736659089054,
          0.21021141718846584,
          0.0924962418861647,
          0.941561839117956,
          0.5413059160687234,
          0.5551032028495543,
          0.48625504014742166,
          0.48511229467668376,
          0.30571541777794503,
          0.4145170568495858,
          0.4653679796492709,
          0.5080387640560726,
          0.26973569240769146,
          0.11058247772411031,
          0.7735442233451179,
          0.5519212404457989,
          0.7523199610885137,
          0.7370371862739985,
          0.7607275966446059,
          0.7254763563252964,
          0.05574639462324214,
          0.6150880932915396,
          0.29737414200870316,
          0.9452904631906893,
          0.7240587509939684,
          0.38590255968092585,
          0.6980327778161991,
          0.5238584928321033,
          0.08550852596352064,
          0.3635122030054561,
          0.3729274805535624,
          0.39951844250171353,
          0.7411151735908507,
          0.490043915094591,
          0.4317353410615969,
          0.12554342716063807,
          0.05090123847107511,
          -0.018325470902447297,
          0.7977626683227174,
          0.34574077171578427,
          0.42969593236485026,
          0.7957564810315176,
          0.6872863210950843
         ],
         "z": [
          0,
          0,
          1,
          0,
          1,
          0,
          1,
          0,
          0,
          0,
          0,
          0,
          0,
          0,
          0,
          1,
          0,
          0,
          1,
          0,
          0,
          0,
          0,
          0,
          0,
          0,
          1,
          0,
          0,
          0,
          0,
          1,
          1,
          1,
          1,
          1,
          0,
          1,
          0,
          0,
          1,
          0,
          0,
          0,
          1,
          1,
          1,
          0,
          1,
          1,
          1,
          0,
          1,
          0,
          0,
          1,
          1,
          1,
          1,
          0,
          1,
          0,
          1,
          1,
          0,
          0,
          0,
          1,
          1,
          1,
          1,
          0,
          0,
          1,
          1
         ]
        },
        {
         "marker": {
          "color": "red",
          "size": 8,
          "symbol": "circle"
         },
         "mode": "markers",
         "type": "scatter3d",
         "x": [
          0.5034777040177313,
          0.6404800218087132,
          0.13156822723523565,
          0.6306935507652566,
          0.361446540009915,
          0.6006998097439787,
          0.4082824576101364,
          0.49182798406256406,
          0.5236828931103569,
          0.47243674387567325,
          0.2438411561405184,
          0.4952983461286733,
          0.4149511466765509,
          0.22027652763065222,
          0.5068430060722646,
          0.8913956333520086,
          0.5755642423393177,
          0.370629061180863,
          0.9915291119708656,
          0.5785844536831064,
          0.4877495156705457,
          0.5762566989060852,
          0.4975814149500666,
          0.5855215430324084,
          0.47472186413460493,
          0.4437834161041227,
          0.8622461638354243,
          0.549539415454311,
          0.5411767769305156,
          0.48879008931332335,
          0.3555097165708174,
          0.36569249379913465,
          0.050946931495260826,
          0.8078462360316945,
          0.6360392877026426,
          0.29355805185251915,
          0.5656136997788626,
          1.0011814124781964,
          0.5253590184461709,
          0.4787030097079319,
          0.9714022439149568,
          0.467736889283384,
          0.4586872611972295,
          0.478505365553075,
          0.04041657110398205,
          0.30097630711875567,
          0.8252494994656355,
          0.3165381062198016,
          0.09395929372199195,
          0.08061743453153111,
          0.8800721917862491,
          0.30099247723071887,
          0.6131383492449597,
          0.5766761409056017,
          0.21154874837119855,
          0.6335222546152482,
          0.10913381520119002,
          0.04810714110438636,
          0.9413669965678327,
          0.45811978339691917,
          0.3806282093244114,
          0.5145456013428185,
          0.043567038342225466,
          0.08886032662113663,
          0.4002120797974316,
          0.44331389316181036,
          0.40111602798138374,
          0.20048578234213363,
          0.3265511380194664,
          0.5686128930503412,
          0.20955158311011943,
          0.5923475272363631,
          0.3187170466599197,
          0.12069803664079792,
          0.9043817673642982
         ],
         "y": [
          0.49777829390344536,
          0.5086423999727167,
          0.15442328589677104,
          0.32978161238069303,
          0.07560502400471122,
          0.48088626464669504,
          0.05139926765585654,
          0.49110654211900234,
          0.3515226583108427,
          0.5108409710778419,
          0.4005784043186506,
          0.41945777157016434,
          0.2752078150071345,
          0.5453134163957761,
          0.47801866066397114,
          0.7501695733903122,
          0.39212191502754834,
          0.47330123936591295,
          0.40673120141075125,
          0.4994010900173444,
          0.3907507925380154,
          0.49157412285380264,
          0.4682311808895187,
          0.6462175239093018,
          0.5127713322201656,
          0.6260677650888644,
          0.14341708269794268,
          0.43720557309607316,
          0.09618739352854808,
          0.49317527558874147,
          0.5361478256330277,
          0.05340195309702338,
          0.31725736659089054,
          0.21021141718846584,
          0.0924962418861647,
          0.941561839117956,
          0.5413059160687234,
          0.5551032028495543,
          0.48625504014742166,
          0.48511229467668376,
          0.30571541777794503,
          0.4145170568495858,
          0.4653679796492709,
          0.5080387640560726,
          0.26973569240769146,
          0.11058247772411031,
          0.7735442233451179,
          0.5519212404457989,
          0.7523199610885137,
          0.7370371862739985,
          0.7607275966446059,
          0.7254763563252964,
          0.05574639462324214,
          0.6150880932915396,
          0.29737414200870316,
          0.9452904631906893,
          0.7240587509939684,
          0.38590255968092585,
          0.6980327778161991,
          0.5238584928321033,
          0.08550852596352064,
          0.3635122030054561,
          0.3729274805535624,
          0.39951844250171353,
          0.7411151735908507,
          0.490043915094591,
          0.4317353410615969,
          0.12554342716063807,
          0.05090123847107511,
          -0.018325470902447297,
          0.7977626683227174,
          0.34574077171578427,
          0.42969593236485026,
          0.7957564810315176,
          0.6872863210950843
         ],
         "z": [
          -0.04758142679929733,
          0.04552042484283447,
          1.0690690279006958,
          0.12381671369075775,
          1.002689242362976,
          0.007924899458885193,
          1.0178126096725464,
          -0.055718742311000824,
          -0.005883768200874329,
          -0.04738409444689751,
          0.24144266545772552,
          -0.05303826555609703,
          0.1948336958885193,
          0.3362434506416321,
          -0.05223705619573593,
          0.891177773475647,
          -0.027164597064256668,
          -0.046890635043382645,
          1.1115955114364624,
          0.000331338495016098,
          -0.04568207636475563,
          -0.0038209930062294006,
          -0.061433784663677216,
          0.12167464196681976,
          -0.04547935724258423,
          0.043306052684783936,
          1.1289582252502441,
          -0.0374586284160614,
          0.9176784157752991,
          -0.05510684475302696,
          -0.02251376584172249,
          1.037392258644104,
          1.015752911567688,
          0.9462364912033081,
          0.9511440396308899,
          1.0896350145339966,
          0.010650388896465302,
          1.1006847620010376,
          -0.03773730993270874,
          -0.06320410966873169,
          1.1384471654891968,
          -0.05743847414851189,
          -0.06351258605718613,
          -0.04770388454198837,
          1.1233782768249512,
          0.9755687713623047,
          0.7534856200218201,
          0.04398573935031891,
          1.0221844911575317,
          1.0407068729400635,
          0.8767555952072144,
          0.42214882373809814,
          0.9996711015701294,
          0.08078336715698242,
          0.49578797817230225,
          0.9297975301742554,
          0.9550029039382935,
          1.0052859783172607,
          0.9861422777175903,
          -0.04228374734520912,
          0.9739371538162231,
          -0.02943088859319687,
          1.0177162885665894,
          0.874891996383667,
          0.31415730714797974,
          -0.05687158554792404,
          -0.05891011655330658,
          0.9342786073684692,
          1.053378939628601,
          1.1311880350112915,
          0.8177289962768555,
          0.03888699412345886,
          0.015410207211971283,
          0.9980037212371826,
          0.8597992658615112
         ]
        }
       ],
       "layout": {
        "scene": {
         "camera": {
          "eye": {
           "x": 1.25,
           "y": 1.25,
           "z": 1.25
          }
         },
         "xaxis": {
          "title": {
           "text": "Eixo X"
          }
         },
         "yaxis": {
          "title": {
           "text": "Eixo Y"
          }
         },
         "zaxis": {
          "title": {
           "text": "Eixo Z"
          }
         }
        },
        "template": {
         "data": {
          "bar": [
           {
            "error_x": {
             "color": "#2a3f5f"
            },
            "error_y": {
             "color": "#2a3f5f"
            },
            "marker": {
             "line": {
              "color": "#E5ECF6",
              "width": 0.5
             },
             "pattern": {
              "fillmode": "overlay",
              "size": 10,
              "solidity": 0.2
             }
            },
            "type": "bar"
           }
          ],
          "barpolar": [
           {
            "marker": {
             "line": {
              "color": "#E5ECF6",
              "width": 0.5
             },
             "pattern": {
              "fillmode": "overlay",
              "size": 10,
              "solidity": 0.2
             }
            },
            "type": "barpolar"
           }
          ],
          "carpet": [
           {
            "aaxis": {
             "endlinecolor": "#2a3f5f",
             "gridcolor": "white",
             "linecolor": "white",
             "minorgridcolor": "white",
             "startlinecolor": "#2a3f5f"
            },
            "baxis": {
             "endlinecolor": "#2a3f5f",
             "gridcolor": "white",
             "linecolor": "white",
             "minorgridcolor": "white",
             "startlinecolor": "#2a3f5f"
            },
            "type": "carpet"
           }
          ],
          "choropleth": [
           {
            "colorbar": {
             "outlinewidth": 0,
             "ticks": ""
            },
            "type": "choropleth"
           }
          ],
          "contour": [
           {
            "colorbar": {
             "outlinewidth": 0,
             "ticks": ""
            },
            "colorscale": [
             [
              0,
              "#0d0887"
             ],
             [
              0.1111111111111111,
              "#46039f"
             ],
             [
              0.2222222222222222,
              "#7201a8"
             ],
             [
              0.3333333333333333,
              "#9c179e"
             ],
             [
              0.4444444444444444,
              "#bd3786"
             ],
             [
              0.5555555555555556,
              "#d8576b"
             ],
             [
              0.6666666666666666,
              "#ed7953"
             ],
             [
              0.7777777777777778,
              "#fb9f3a"
             ],
             [
              0.8888888888888888,
              "#fdca26"
             ],
             [
              1,
              "#f0f921"
             ]
            ],
            "type": "contour"
           }
          ],
          "contourcarpet": [
           {
            "colorbar": {
             "outlinewidth": 0,
             "ticks": ""
            },
            "type": "contourcarpet"
           }
          ],
          "heatmap": [
           {
            "colorbar": {
             "outlinewidth": 0,
             "ticks": ""
            },
            "colorscale": [
             [
              0,
              "#0d0887"
             ],
             [
              0.1111111111111111,
              "#46039f"
             ],
             [
              0.2222222222222222,
              "#7201a8"
             ],
             [
              0.3333333333333333,
              "#9c179e"
             ],
             [
              0.4444444444444444,
              "#bd3786"
             ],
             [
              0.5555555555555556,
              "#d8576b"
             ],
             [
              0.6666666666666666,
              "#ed7953"
             ],
             [
              0.7777777777777778,
              "#fb9f3a"
             ],
             [
              0.8888888888888888,
              "#fdca26"
             ],
             [
              1,
              "#f0f921"
             ]
            ],
            "type": "heatmap"
           }
          ],
          "heatmapgl": [
           {
            "colorbar": {
             "outlinewidth": 0,
             "ticks": ""
            },
            "colorscale": [
             [
              0,
              "#0d0887"
             ],
             [
              0.1111111111111111,
              "#46039f"
             ],
             [
              0.2222222222222222,
              "#7201a8"
             ],
             [
              0.3333333333333333,
              "#9c179e"
             ],
             [
              0.4444444444444444,
              "#bd3786"
             ],
             [
              0.5555555555555556,
              "#d8576b"
             ],
             [
              0.6666666666666666,
              "#ed7953"
             ],
             [
              0.7777777777777778,
              "#fb9f3a"
             ],
             [
              0.8888888888888888,
              "#fdca26"
             ],
             [
              1,
              "#f0f921"
             ]
            ],
            "type": "heatmapgl"
           }
          ],
          "histogram": [
           {
            "marker": {
             "pattern": {
              "fillmode": "overlay",
              "size": 10,
              "solidity": 0.2
             }
            },
            "type": "histogram"
           }
          ],
          "histogram2d": [
           {
            "colorbar": {
             "outlinewidth": 0,
             "ticks": ""
            },
            "colorscale": [
             [
              0,
              "#0d0887"
             ],
             [
              0.1111111111111111,
              "#46039f"
             ],
             [
              0.2222222222222222,
              "#7201a8"
             ],
             [
              0.3333333333333333,
              "#9c179e"
             ],
             [
              0.4444444444444444,
              "#bd3786"
             ],
             [
              0.5555555555555556,
              "#d8576b"
             ],
             [
              0.6666666666666666,
              "#ed7953"
             ],
             [
              0.7777777777777778,
              "#fb9f3a"
             ],
             [
              0.8888888888888888,
              "#fdca26"
             ],
             [
              1,
              "#f0f921"
             ]
            ],
            "type": "histogram2d"
           }
          ],
          "histogram2dcontour": [
           {
            "colorbar": {
             "outlinewidth": 0,
             "ticks": ""
            },
            "colorscale": [
             [
              0,
              "#0d0887"
             ],
             [
              0.1111111111111111,
              "#46039f"
             ],
             [
              0.2222222222222222,
              "#7201a8"
             ],
             [
              0.3333333333333333,
              "#9c179e"
             ],
             [
              0.4444444444444444,
              "#bd3786"
             ],
             [
              0.5555555555555556,
              "#d8576b"
             ],
             [
              0.6666666666666666,
              "#ed7953"
             ],
             [
              0.7777777777777778,
              "#fb9f3a"
             ],
             [
              0.8888888888888888,
              "#fdca26"
             ],
             [
              1,
              "#f0f921"
             ]
            ],
            "type": "histogram2dcontour"
           }
          ],
          "mesh3d": [
           {
            "colorbar": {
             "outlinewidth": 0,
             "ticks": ""
            },
            "type": "mesh3d"
           }
          ],
          "parcoords": [
           {
            "line": {
             "colorbar": {
              "outlinewidth": 0,
              "ticks": ""
             }
            },
            "type": "parcoords"
           }
          ],
          "pie": [
           {
            "automargin": true,
            "type": "pie"
           }
          ],
          "scatter": [
           {
            "fillpattern": {
             "fillmode": "overlay",
             "size": 10,
             "solidity": 0.2
            },
            "type": "scatter"
           }
          ],
          "scatter3d": [
           {
            "line": {
             "colorbar": {
              "outlinewidth": 0,
              "ticks": ""
             }
            },
            "marker": {
             "colorbar": {
              "outlinewidth": 0,
              "ticks": ""
             }
            },
            "type": "scatter3d"
           }
          ],
          "scattercarpet": [
           {
            "marker": {
             "colorbar": {
              "outlinewidth": 0,
              "ticks": ""
             }
            },
            "type": "scattercarpet"
           }
          ],
          "scattergeo": [
           {
            "marker": {
             "colorbar": {
              "outlinewidth": 0,
              "ticks": ""
             }
            },
            "type": "scattergeo"
           }
          ],
          "scattergl": [
           {
            "marker": {
             "colorbar": {
              "outlinewidth": 0,
              "ticks": ""
             }
            },
            "type": "scattergl"
           }
          ],
          "scattermapbox": [
           {
            "marker": {
             "colorbar": {
              "outlinewidth": 0,
              "ticks": ""
             }
            },
            "type": "scattermapbox"
           }
          ],
          "scatterpolar": [
           {
            "marker": {
             "colorbar": {
              "outlinewidth": 0,
              "ticks": ""
             }
            },
            "type": "scatterpolar"
           }
          ],
          "scatterpolargl": [
           {
            "marker": {
             "colorbar": {
              "outlinewidth": 0,
              "ticks": ""
             }
            },
            "type": "scatterpolargl"
           }
          ],
          "scatterternary": [
           {
            "marker": {
             "colorbar": {
              "outlinewidth": 0,
              "ticks": ""
             }
            },
            "type": "scatterternary"
           }
          ],
          "surface": [
           {
            "colorbar": {
             "outlinewidth": 0,
             "ticks": ""
            },
            "colorscale": [
             [
              0,
              "#0d0887"
             ],
             [
              0.1111111111111111,
              "#46039f"
             ],
             [
              0.2222222222222222,
              "#7201a8"
             ],
             [
              0.3333333333333333,
              "#9c179e"
             ],
             [
              0.4444444444444444,
              "#bd3786"
             ],
             [
              0.5555555555555556,
              "#d8576b"
             ],
             [
              0.6666666666666666,
              "#ed7953"
             ],
             [
              0.7777777777777778,
              "#fb9f3a"
             ],
             [
              0.8888888888888888,
              "#fdca26"
             ],
             [
              1,
              "#f0f921"
             ]
            ],
            "type": "surface"
           }
          ],
          "table": [
           {
            "cells": {
             "fill": {
              "color": "#EBF0F8"
             },
             "line": {
              "color": "white"
             }
            },
            "header": {
             "fill": {
              "color": "#C8D4E3"
             },
             "line": {
              "color": "white"
             }
            },
            "type": "table"
           }
          ]
         },
         "layout": {
          "annotationdefaults": {
           "arrowcolor": "#2a3f5f",
           "arrowhead": 0,
           "arrowwidth": 1
          },
          "autotypenumbers": "strict",
          "coloraxis": {
           "colorbar": {
            "outlinewidth": 0,
            "ticks": ""
           }
          },
          "colorscale": {
           "diverging": [
            [
             0,
             "#8e0152"
            ],
            [
             0.1,
             "#c51b7d"
            ],
            [
             0.2,
             "#de77ae"
            ],
            [
             0.3,
             "#f1b6da"
            ],
            [
             0.4,
             "#fde0ef"
            ],
            [
             0.5,
             "#f7f7f7"
            ],
            [
             0.6,
             "#e6f5d0"
            ],
            [
             0.7,
             "#b8e186"
            ],
            [
             0.8,
             "#7fbc41"
            ],
            [
             0.9,
             "#4d9221"
            ],
            [
             1,
             "#276419"
            ]
           ],
           "sequential": [
            [
             0,
             "#0d0887"
            ],
            [
             0.1111111111111111,
             "#46039f"
            ],
            [
             0.2222222222222222,
             "#7201a8"
            ],
            [
             0.3333333333333333,
             "#9c179e"
            ],
            [
             0.4444444444444444,
             "#bd3786"
            ],
            [
             0.5555555555555556,
             "#d8576b"
            ],
            [
             0.6666666666666666,
             "#ed7953"
            ],
            [
             0.7777777777777778,
             "#fb9f3a"
            ],
            [
             0.8888888888888888,
             "#fdca26"
            ],
            [
             1,
             "#f0f921"
            ]
           ],
           "sequentialminus": [
            [
             0,
             "#0d0887"
            ],
            [
             0.1111111111111111,
             "#46039f"
            ],
            [
             0.2222222222222222,
             "#7201a8"
            ],
            [
             0.3333333333333333,
             "#9c179e"
            ],
            [
             0.4444444444444444,
             "#bd3786"
            ],
            [
             0.5555555555555556,
             "#d8576b"
            ],
            [
             0.6666666666666666,
             "#ed7953"
            ],
            [
             0.7777777777777778,
             "#fb9f3a"
            ],
            [
             0.8888888888888888,
             "#fdca26"
            ],
            [
             1,
             "#f0f921"
            ]
           ]
          },
          "colorway": [
           "#636efa",
           "#EF553B",
           "#00cc96",
           "#ab63fa",
           "#FFA15A",
           "#19d3f3",
           "#FF6692",
           "#B6E880",
           "#FF97FF",
           "#FECB52"
          ],
          "font": {
           "color": "#2a3f5f"
          },
          "geo": {
           "bgcolor": "white",
           "lakecolor": "white",
           "landcolor": "#E5ECF6",
           "showlakes": true,
           "showland": true,
           "subunitcolor": "white"
          },
          "hoverlabel": {
           "align": "left"
          },
          "hovermode": "closest",
          "mapbox": {
           "style": "light"
          },
          "paper_bgcolor": "white",
          "plot_bgcolor": "#E5ECF6",
          "polar": {
           "angularaxis": {
            "gridcolor": "white",
            "linecolor": "white",
            "ticks": ""
           },
           "bgcolor": "#E5ECF6",
           "radialaxis": {
            "gridcolor": "white",
            "linecolor": "white",
            "ticks": ""
           }
          },
          "scene": {
           "xaxis": {
            "backgroundcolor": "#E5ECF6",
            "gridcolor": "white",
            "gridwidth": 2,
            "linecolor": "white",
            "showbackground": true,
            "ticks": "",
            "zerolinecolor": "white"
           },
           "yaxis": {
            "backgroundcolor": "#E5ECF6",
            "gridcolor": "white",
            "gridwidth": 2,
            "linecolor": "white",
            "showbackground": true,
            "ticks": "",
            "zerolinecolor": "white"
           },
           "zaxis": {
            "backgroundcolor": "#E5ECF6",
            "gridcolor": "white",
            "gridwidth": 2,
            "linecolor": "white",
            "showbackground": true,
            "ticks": "",
            "zerolinecolor": "white"
           }
          },
          "shapedefaults": {
           "line": {
            "color": "#2a3f5f"
           }
          },
          "ternary": {
           "aaxis": {
            "gridcolor": "white",
            "linecolor": "white",
            "ticks": ""
           },
           "baxis": {
            "gridcolor": "white",
            "linecolor": "white",
            "ticks": ""
           },
           "bgcolor": "#E5ECF6",
           "caxis": {
            "gridcolor": "white",
            "linecolor": "white",
            "ticks": ""
           }
          },
          "title": {
           "x": 0.05
          },
          "xaxis": {
           "automargin": true,
           "gridcolor": "white",
           "linecolor": "white",
           "ticks": "",
           "title": {
            "standoff": 15
           },
           "zerolinecolor": "white",
           "zerolinewidth": 2
          },
          "yaxis": {
           "automargin": true,
           "gridcolor": "white",
           "linecolor": "white",
           "ticks": "",
           "title": {
            "standoff": 15
           },
           "zerolinecolor": "white",
           "zerolinewidth": 2
          }
         }
        }
       }
      }
     },
     "metadata": {},
     "output_type": "display_data"
    }
   ],
   "source": [
    "fig = go.Figure(data=[go.Scatter3d(\n",
    "    x=x1,\n",
    "    y=x2,\n",
    "    z=y,\n",
    "    mode='markers',\n",
    "    marker=dict(\n",
    "        size=8,\n",
    "        color='blue',\n",
    "        symbol='circle'\n",
    "    )\n",
    ")])\n",
    "\n",
    "fig.add_trace(go.Scatter3d(\n",
    "    x=x1,\n",
    "    y=x2,\n",
    "    z=ypred,\n",
    "    mode='markers',\n",
    "    marker=dict(\n",
    "        size=8,\n",
    "        color='red',\n",
    "        symbol='circle'\n",
    "    )\n",
    "))\n",
    "\n",
    "fig.update_layout(scene=dict(\n",
    "    xaxis_title='Eixo X',\n",
    "    yaxis_title='Eixo Y',\n",
    "    zaxis_title='Eixo Z',\n",
    "    camera_eye=dict(x=1.25, y=1.25, z=1.25)\n",
    "))\n",
    "\n",
    "fig.show()"
   ]
  }
 ],
 "metadata": {
  "kernelspec": {
   "display_name": "Python 3",
   "language": "python",
   "name": "python3"
  },
  "language_info": {
   "codemirror_mode": {
    "name": "ipython",
    "version": 3
   },
   "file_extension": ".py",
   "mimetype": "text/x-python",
   "name": "python",
   "nbconvert_exporter": "python",
   "pygments_lexer": "ipython3",
   "version": "3.11.0"
  }
 },
 "nbformat": 4,
 "nbformat_minor": 2
}
